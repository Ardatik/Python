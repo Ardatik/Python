{
  "nbformat": 4,
  "nbformat_minor": 0,
  "metadata": {
    "colab": {
      "name": "stack_1.ipynb",
      "provenance": [],
      "authorship_tag": "ABX9TyMia2TQHu9hGqRIFe5YrdgT",
      "include_colab_link": true
    },
    "kernelspec": {
      "name": "python3",
      "display_name": "Python 3"
    },
    "language_info": {
      "name": "python"
    }
  },
  "cells": [
    {
      "cell_type": "markdown",
      "metadata": {
        "id": "view-in-github",
        "colab_type": "text"
      },
      "source": [
        "<a href=\"https://colab.research.google.com/github/FuryDan/Python/blob/main/%D0%9F%D1%80%D0%BE%D0%B3%D1%80%D0%B0%D0%BC%D0%BC%D1%8B%20%D0%B2%20%D1%82%D0%B5%D1%87%D0%B5%D0%BD%D0%B8%D0%B5%20%D1%81%D0%B5%D0%BC%D0%B5%D1%81%D1%82%D0%BD%D1%80%D0%B0/2%20%D1%81%D0%B5%D0%BC%D0%B5%D1%81%D1%82%D1%80/%D0%A2%D0%B5%D1%85%D0%BD%D0%BE%D0%BB%D0%BE%D0%B3%D0%B8%D0%B8%20%D0%BF%D1%80%D0%BE%D0%B3%D1%80%D0%B0%D0%BC%D0%BC%D0%B8%D1%80%D0%BE%D0%B2%D0%B0%D0%BD%D0%B8%D1%8F/%D0%9F%D1%80%D0%B0%D0%BA%D1%82%D0%B8%D0%BA%D0%B0%20%E2%84%969/stack_1.ipynb\" target=\"_parent\"><img src=\"https://colab.research.google.com/assets/colab-badge.svg\" alt=\"Open In Colab\"/></a>"
      ]
    },
    {
      "cell_type": "code",
      "execution_count": 19,
      "metadata": {
        "colab": {
          "base_uri": "https://localhost:8080/"
        },
        "id": "M1DuA0CVV0oE",
        "outputId": "fe69164c-5d0a-4b6a-9bed-0f463d12bed5"
      },
      "outputs": [
        {
          "output_type": "stream",
          "name": "stdout",
          "text": [
            "1 2 3 4 5 6 7 8 9\n",
            "5\n",
            "['2', '3', '4', '5'] ['6']\n",
            "['3', '4', '5'] ['6', '7']\n",
            "['4', '5'] ['6', '7', '8']\n",
            "['5'] ['6', '7', '8', '9']\n"
          ]
        }
      ],
      "source": [
        "L = input().split()\n",
        "k = int(input())\n",
        "A, B = [], []\n",
        "for i in range(k):\n",
        "  A.append(L[i])\n",
        "for i in range(k, len(L)):\n",
        "  if not B:\n",
        "    while A:\n",
        "      B.append(A.pop())\n",
        "    B.pop()\n",
        "    A.append(L[i])\n",
        "  else:\n",
        "    B.pop()\n",
        "    A.append(L[i])\n",
        "  print(B[::-1], A)"
      ]
    }
  ]
}