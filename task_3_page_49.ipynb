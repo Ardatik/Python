{
  "nbformat": 4,
  "nbformat_minor": 0,
  "metadata": {
    "colab": {
      "name": "task_3_page_49.ipynb",
      "provenance": [],
      "authorship_tag": "ABX9TyMv7wgK2cx+Zr/e00HO5gzz",
      "include_colab_link": true
    },
    "kernelspec": {
      "name": "python3",
      "display_name": "Python 3"
    },
    "language_info": {
      "name": "python"
    }
  },
  "cells": [
    {
      "cell_type": "markdown",
      "metadata": {
        "id": "view-in-github",
        "colab_type": "text"
      },
      "source": [
        "<a href=\"https://colab.research.google.com/github/FuryDan/Python/blob/main/task_3_page_49.ipynb\" target=\"_parent\"><img src=\"https://colab.research.google.com/assets/colab-badge.svg\" alt=\"Open In Colab\"/></a>"
      ]
    },
    {
      "cell_type": "markdown",
      "source": [
        "Произведем импорт необходимых пакетов."
      ],
      "metadata": {
        "id": "qXoJyV35481I"
      }
    },
    {
      "cell_type": "code",
      "execution_count": 102,
      "metadata": {
        "id": "y4EHPpLK0Ym3"
      },
      "outputs": [],
      "source": [
        "import matplotlib.pyplot as plt\n",
        "import numpy as np"
      ]
    },
    {
      "cell_type": "markdown",
      "source": [
        "Рассмотрим функцию."
      ],
      "metadata": {
        "id": "TLrkkJ480dYB"
      }
    },
    {
      "cell_type": "code",
      "source": [
        "def f(x):\n",
        "  return x**2 + 16/x - 16"
      ],
      "metadata": {
        "id": "es2_HXWB3pWQ"
      },
      "execution_count": 103,
      "outputs": []
    },
    {
      "cell_type": "markdown",
      "source": [
        "Создадим переменные x и y."
      ],
      "metadata": {
        "id": "6_qGH-qp6Lbs"
      }
    },
    {
      "cell_type": "code",
      "source": [
        "a = 1\n",
        "b = 4\n",
        "x = np.linspace(a, b, 30)\n",
        "y = f(x)"
      ],
      "metadata": {
        "id": "QO6_Ybll6RZC"
      },
      "execution_count": 104,
      "outputs": []
    },
    {
      "cell_type": "markdown",
      "source": [
        "Построим график функции."
      ],
      "metadata": {
        "id": "mjvJi4XR7GSd"
      }
    },
    {
      "cell_type": "code",
      "source": [
        "fig = plt.figure()\n",
        "ax = fig.add_subplot(1, 1, 1)\n",
        "ax.plot(x, y, color = 'black')\n",
        "plt.show()"
      ],
      "metadata": {
        "colab": {
          "base_uri": "https://localhost:8080/",
          "height": 265
        },
        "id": "jgIphZyj7F_Z",
        "outputId": "2910a190-a00c-4b74-dead-803e4e9d62ae"
      },
      "execution_count": 105,
      "outputs": [
        {
          "output_type": "display_data",
          "data": {
            "text/plain": [
              "<Figure size 432x288 with 1 Axes>"
            ],
            "image/png": "[encoded data removed]"
          },
          "metadata": {
            "needs_background": "light"
          }
        }
      ]
    },
    {
      "cell_type": "markdown",
      "source": [
        "Найдем наибольшее и наименьшее значение функции на отрезке [1;4]."
      ],
      "metadata": {
        "id": "xVy6nvqQ8AIM"
      }
    },
    {
      "cell_type": "code",
      "source": [
        "a = 1\n",
        "b = 4\n",
        "d_x = 0.1\n",
        "x_1 = (a + b - d_x) / 2\n",
        "x_2 = (a + b + d_x) / 2\n",
        "eps = 0.07\n",
        "\n",
        "while (b - a) / 2 > eps:\n",
        "  if f(x_1) <= f(x_2):\n",
        "    a = x_1\n",
        "    x_1 = (a + b - d_x) / 2\n",
        "    x_2 = (a + b + d_x) / 2\n",
        "  else:\n",
        "    b = x_2\n",
        "    x_1 = (a + b - d_x) / 2\n",
        "    x_2 = (a + b + d_x) / 2\n",
        "max_znach = (a + b) / 2\n",
        "print(f'Наибольшее значение функции - \"{max_znach}\"')\n",
        "\n",
        "a = 1\n",
        "b = 4\n",
        "d_x = 0.1\n",
        "x_1 = (a + b - d_x) / 2\n",
        "x_2 = (a + b + d_x) / 2\n",
        "eps = 0.07\n",
        "\n",
        "while (b - a) / 2 > eps:\n",
        "  if f(x_1) <= f(x_2):\n",
        "    b = x_2\n",
        "    x_1 = (a + b - d_x) / 2\n",
        "    x_2 = (a + b + d_x) / 2\n",
        "  else:\n",
        "    a = x_1\n",
        "    x_1 = (a + b - d_x) / 2\n",
        "    x_2 = (a + b + d_x) / 2\n",
        "min_znach = (a + b) / 2\n",
        "print(f'Наименьшее - \"{min_znach}\"')"
      ],
      "metadata": {
        "colab": {
          "base_uri": "https://localhost:8080/"
        },
        "id": "YycqxkhI8omZ",
        "outputId": "88e26f94-9a88-4873-e873-a18b01b162ab"
      },
      "execution_count": 106,
      "outputs": [
        {
          "output_type": "stream",
          "name": "stdout",
          "text": [
            "Наибольшее значение функции - \"3.9386718750000003\"\n",
            "Наименьшее - \"1.9902343749999996\"\n"
          ]
        }
      ]
    },
    {
      "cell_type": "markdown",
      "source": [
        "Добавим точки наибольшего и наименьшего значения функции на график."
      ],
      "metadata": {
        "id": "kGROy56ZL943"
      }
    },
    {
      "cell_type": "code",
      "source": [
        "fig = plt.figure()\n",
        "ax = fig.add_subplot(1, 1, 1)\n",
        "x_min = np.linspace(min_znach, min_znach)\n",
        "y_min = np.interp(x_min, x, y)\n",
        "x_max = np.linspace(max_znach, max_znach)\n",
        "y_max = np.interp(x_max, x, y)\n",
        "ax.plot(x, y, color = 'black')\n",
        "ax.plot(x_min, y_min, '*', color = 'red')\n",
        "ax.plot(x_max, y_max, '*', color = 'blue')\n",
        "plt.show()"
      ],
      "metadata": {
        "colab": {
          "base_uri": "https://localhost:8080/",
          "height": 265
        },
        "id": "MkpNgRrfMboi",
        "outputId": "a303f6e5-cce0-4ce8-a369-645af375bdd7"
      },
      "execution_count": 107,
      "outputs": [
        {
          "output_type": "display_data",
          "data": {
            "text/plain": [
              "<Figure size 432x288 with 1 Axes>"
            ],
            "image/png": "[encoded data removed]"
          },
          "metadata": {
            "needs_background": "light"
          }
        }
      ]
    }
  ]
}