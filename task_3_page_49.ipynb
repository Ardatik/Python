{
  "nbformat": 4,
  "nbformat_minor": 0,
  "metadata": {
    "colab": {
      "name": "task_3_page_49.ipynb",
      "provenance": [],
      "authorship_tag": "ABX9TyOC5b6HX7m97PeJYYPikScn",
      "include_colab_link": true
    },
    "kernelspec": {
      "name": "python3",
      "display_name": "Python 3"
    },
    "language_info": {
      "name": "python"
    }
  },
  "cells": [
    {
      "cell_type": "markdown",
      "metadata": {
        "id": "view-in-github",
        "colab_type": "text"
      },
      "source": [
        "<a href=\"https://colab.research.google.com/github/FuryDan/Python/blob/main/task_3_page_49.ipynb\" target=\"_parent\"><img src=\"https://colab.research.google.com/assets/colab-badge.svg\" alt=\"Open In Colab\"/></a>"
      ]
    },
    {
      "cell_type": "markdown",
      "source": [
        "Произведем импорт необходимых пакетов."
      ],
      "metadata": {
        "id": "qXoJyV35481I"
      }
    },
    {
      "cell_type": "code",
      "execution_count": 10,
      "metadata": {
        "id": "y4EHPpLK0Ym3"
      },
      "outputs": [],
      "source": [
        "import matplotlib.pyplot as plt\n",
        "import numpy as np"
      ]
    },
    {
      "cell_type": "markdown",
      "source": [
        "Рассмотрим функцию."
      ],
      "metadata": {
        "id": "TLrkkJ480dYB"
      }
    },
    {
      "cell_type": "code",
      "source": [
        "def f(x):\n",
        "  return x**2 + 16/x - 16"
      ],
      "metadata": {
        "id": "es2_HXWB3pWQ"
      },
      "execution_count": 15,
      "outputs": []
    },
    {
      "cell_type": "markdown",
      "source": [
        "Создадим переменные x и y."
      ],
      "metadata": {
        "id": "6_qGH-qp6Lbs"
      }
    },
    {
      "cell_type": "code",
      "source": [
        "a = 1\n",
        "b = 4\n",
        "x = np.linspace(a, b, 30)\n",
        "y = f(x)"
      ],
      "metadata": {
        "id": "QO6_Ybll6RZC"
      },
      "execution_count": 16,
      "outputs": []
    },
    {
      "cell_type": "markdown",
      "source": [
        "Построим график функции."
      ],
      "metadata": {
        "id": "mjvJi4XR7GSd"
      }
    },
    {
      "cell_type": "code",
      "source": [
        "fig = plt.figure()\n",
        "ax = fig.add_subplot(1, 1, 1)\n",
        "ax.plot(x, y)\n",
        "plt.show()"
      ],
      "metadata": {
        "colab": {
          "base_uri": "https://localhost:8080/",
          "height": 265
        },
        "id": "jgIphZyj7F_Z",
        "outputId": "21f91ee2-4e32-447e-f23e-ad14f8148c94"
      },
      "execution_count": 17,
      "outputs": [
        {
          "output_type": "display_data",
          "data": {
            "text/plain": [
              "<Figure size 432x288 with 1 Axes>"
            ],
            "image/png": "[encoded data removed]"
          },
          "metadata": {
            "needs_background": "light"
          }
        }
      ]
    },
    {
      "cell_type": "markdown",
      "source": [
        "Найдем наибольшее и наименьшее значение функции на отрезке [1;4]."
      ],
      "metadata": {
        "id": "xVy6nvqQ8AIM"
      }
    },
    {
      "cell_type": "code",
      "source": [
        "max_znach = max(y)\n",
        "min_znach = min(y)\n",
        "print(f'Наибольшее значение функции - \"{max_znach}\", а наименьшее - \"{min_znach}\"')"
      ],
      "metadata": {
        "colab": {
          "base_uri": "https://localhost:8080/"
        },
        "id": "YycqxkhI8omZ",
        "outputId": "2ee82602-8f7b-4742-dc56-7b0ecf6d976f"
      },
      "execution_count": 19,
      "outputs": [
        {
          "output_type": "stream",
          "name": "stdout",
          "text": [
            "Наибольшее значение функции - \"4.0\", а наименьшее - \"-3.9964731252141323\"\n"
          ]
        }
      ]
    }
  ]
}