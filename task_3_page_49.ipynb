{
  "nbformat": 4,
  "nbformat_minor": 0,
  "metadata": {
    "colab": {
      "name": "task_3_page_49.ipynb",
      "provenance": [],
      "authorship_tag": "ABX9TyPIrTfm9oIBi8AXG0W0ijuN",
      "include_colab_link": true
    },
    "kernelspec": {
      "name": "python3",
      "display_name": "Python 3"
    },
    "language_info": {
      "name": "python"
    }
  },
  "cells": [
    {
      "cell_type": "markdown",
      "metadata": {
        "id": "view-in-github",
        "colab_type": "text"
      },
      "source": [
        "<a href=\"https://colab.research.google.com/github/FuryDan/Python/blob/main/task_3_page_49.ipynb\" target=\"_parent\"><img src=\"https://colab.research.google.com/assets/colab-badge.svg\" alt=\"Open In Colab\"/></a>"
      ]
    },
    {
      "cell_type": "markdown",
      "source": [
        "Произведем импорт необходимых пакетов."
      ],
      "metadata": {
        "id": "qXoJyV35481I"
      }
    },
    {
      "cell_type": "code",
      "execution_count": 39,
      "metadata": {
        "id": "y4EHPpLK0Ym3"
      },
      "outputs": [],
      "source": [
        "import matplotlib.pyplot as plt\n",
        "import numpy as np"
      ]
    },
    {
      "cell_type": "markdown",
      "source": [
        "Рассмотрим функцию."
      ],
      "metadata": {
        "id": "TLrkkJ480dYB"
      }
    },
    {
      "cell_type": "code",
      "source": [
        "def f(x):\n",
        "  return x**2 + 16/x - 16"
      ],
      "metadata": {
        "id": "es2_HXWB3pWQ"
      },
      "execution_count": 40,
      "outputs": []
    },
    {
      "cell_type": "markdown",
      "source": [
        "Создадим переменные x и y."
      ],
      "metadata": {
        "id": "6_qGH-qp6Lbs"
      }
    },
    {
      "cell_type": "code",
      "source": [
        "a = 1\n",
        "b = 4\n",
        "x = np.linspace(a, b, 30)\n",
        "y = f(x)"
      ],
      "metadata": {
        "id": "QO6_Ybll6RZC"
      },
      "execution_count": 41,
      "outputs": []
    },
    {
      "cell_type": "markdown",
      "source": [
        "Построим график функции."
      ],
      "metadata": {
        "id": "mjvJi4XR7GSd"
      }
    },
    {
      "cell_type": "code",
      "source": [
        "fig = plt.figure()\n",
        "ax = fig.add_subplot(1, 1, 1)\n",
        "ax.plot(x, y, color = 'black')\n",
        "plt.show()"
      ],
      "metadata": {
        "colab": {
          "base_uri": "https://localhost:8080/",
          "height": 265
        },
        "id": "jgIphZyj7F_Z",
        "outputId": "9539070d-0198-454f-c32c-d88f1e49cf8e"
      },
      "execution_count": 59,
      "outputs": [
        {
          "output_type": "display_data",
          "data": {
            "text/plain": [
              "<Figure size 432x288 with 1 Axes>"
            ],
            "image/png": "[encoded data removed]"
          },
          "metadata": {
            "needs_background": "light"
          }
        }
      ]
    },
    {
      "cell_type": "markdown",
      "source": [
        "Найдем наибольшее и наименьшее значение функции на отрезке [1;4]."
      ],
      "metadata": {
        "id": "xVy6nvqQ8AIM"
      }
    },
    {
      "cell_type": "code",
      "source": [
        "a = 1\n",
        "b = 4\n",
        "d_x = 0.1\n",
        "x_1 = (a + b - d_x) / 2\n",
        "x_2 = (a + b + d_x) / 2\n",
        "eps = 0.07\n",
        "\n",
        "while (b - a) / 2 > eps:\n",
        "  if f(x_1) <= f(x_2):\n",
        "    a = x_1\n",
        "    x_1 = (a + b - d_x) / 2\n",
        "    x_2 = (a + b + d_x) / 2\n",
        "  else:\n",
        "    b = x_2\n",
        "    x_1 = (a + b - d_x) / 2\n",
        "    x_2 = (a + b + d_x) / 2\n",
        "max_znach = (a + b) / 2\n",
        "print(f'Наибольшее значение функции - \"{max_znach}\"')\n",
        "\n",
        "a = 1\n",
        "b = 4\n",
        "d_x = 0.1\n",
        "x_1 = (a + b - d_x) / 2\n",
        "x_2 = (a + b + d_x) / 2\n",
        "eps = 0.07\n",
        "\n",
        "while (b - a) / 2 > eps:\n",
        "  if f(x_1) <= f(x_2):\n",
        "    b = x_2\n",
        "    x_1 = (a + b - d_x) / 2\n",
        "    x_2 = (a + b + d_x) / 2\n",
        "  else:\n",
        "    a = x_1\n",
        "    x_1 = (a + b - d_x) / 2\n",
        "    x_2 = (a + b + d_x) / 2\n",
        "min_znach = (a + b) / 2\n",
        "print(f'Наименьшее - \"{min_znach}\"')"
      ],
      "metadata": {
        "colab": {
          "base_uri": "https://localhost:8080/"
        },
        "id": "YycqxkhI8omZ",
        "outputId": "8d028e67-ef64-450c-c203-b54a5e8489d2"
      },
      "execution_count": 65,
      "outputs": [
        {
          "output_type": "stream",
          "name": "stdout",
          "text": [
            "Наибольшее значение функции - \"3.9386718750000003\"\n",
            "Наименьшее - \"1.9902343749999996\"\n"
          ]
        }
      ]
    },
    {
      "cell_type": "markdown",
      "source": [
        "Добавим точки наибольшего и наименьшего значения функции на график."
      ],
      "metadata": {
        "id": "kGROy56ZL943"
      }
    },
    {
      "cell_type": "code",
      "source": [
        "fig = plt.figure()\n",
        "ax = fig.add_subplot(1, 1, 1)\n",
        "ax.plot(x, y, color = 'black')\n",
        "ax.scatterplot(max_znach, color = 'red')\n",
        "ax.scatterplot(min_znach, color = 'blue')\n",
        "plt.show()"
      ],
      "metadata": {
        "colab": {
          "base_uri": "https://localhost:8080/",
          "height": 483
        },
        "id": "MkpNgRrfMboi",
        "outputId": "90daea7e-6b6c-4895-efb9-d09703882289"
      },
      "execution_count": 75,
      "outputs": [
        {
          "output_type": "error",
          "ename": "AttributeError",
          "evalue": "ignored",
          "traceback": [
            "\u001b[0;31m---------------------------------------------------------------------------\u001b[0m",
            "\u001b[0;31mAttributeError\u001b[0m                            Traceback (most recent call last)",
            "\u001b[0;32m<ipython-input-75-a4e18dc52438>\u001b[0m in \u001b[0;36m<module>\u001b[0;34m()\u001b[0m\n\u001b[1;32m      2\u001b[0m \u001b[0max\u001b[0m \u001b[0;34m=\u001b[0m \u001b[0mfig\u001b[0m\u001b[0;34m.\u001b[0m\u001b[0madd_subplot\u001b[0m\u001b[0;34m(\u001b[0m\u001b[0;36m1\u001b[0m\u001b[0;34m,\u001b[0m \u001b[0;36m1\u001b[0m\u001b[0;34m,\u001b[0m \u001b[0;36m1\u001b[0m\u001b[0;34m)\u001b[0m\u001b[0;34m\u001b[0m\u001b[0;34m\u001b[0m\u001b[0m\n\u001b[1;32m      3\u001b[0m \u001b[0max\u001b[0m\u001b[0;34m.\u001b[0m\u001b[0mplot\u001b[0m\u001b[0;34m(\u001b[0m\u001b[0mx\u001b[0m\u001b[0;34m,\u001b[0m \u001b[0my\u001b[0m\u001b[0;34m,\u001b[0m \u001b[0mcolor\u001b[0m \u001b[0;34m=\u001b[0m \u001b[0;34m'black'\u001b[0m\u001b[0;34m)\u001b[0m\u001b[0;34m\u001b[0m\u001b[0;34m\u001b[0m\u001b[0m\n\u001b[0;32m----> 4\u001b[0;31m \u001b[0max\u001b[0m\u001b[0;34m.\u001b[0m\u001b[0mscatterplot\u001b[0m\u001b[0;34m(\u001b[0m\u001b[0mmax_znach\u001b[0m\u001b[0;34m,\u001b[0m \u001b[0mcolor\u001b[0m \u001b[0;34m=\u001b[0m \u001b[0;34m'red'\u001b[0m\u001b[0;34m)\u001b[0m\u001b[0;34m\u001b[0m\u001b[0;34m\u001b[0m\u001b[0m\n\u001b[0m\u001b[1;32m      5\u001b[0m \u001b[0max\u001b[0m\u001b[0;34m.\u001b[0m\u001b[0mscatterplot\u001b[0m\u001b[0;34m(\u001b[0m\u001b[0mmin_znach\u001b[0m\u001b[0;34m,\u001b[0m \u001b[0mcolor\u001b[0m \u001b[0;34m=\u001b[0m \u001b[0;34m'blue'\u001b[0m\u001b[0;34m)\u001b[0m\u001b[0;34m\u001b[0m\u001b[0;34m\u001b[0m\u001b[0m\n\u001b[1;32m      6\u001b[0m \u001b[0mplt\u001b[0m\u001b[0;34m.\u001b[0m\u001b[0mshow\u001b[0m\u001b[0;34m(\u001b[0m\u001b[0;34m)\u001b[0m\u001b[0;34m\u001b[0m\u001b[0;34m\u001b[0m\u001b[0m\n",
            "\u001b[0;31mAttributeError\u001b[0m: 'AxesSubplot' object has no attribute 'scatterplot'"
          ]
        },
        {
          "output_type": "display_data",
          "data": {
            "text/plain": [
              "<Figure size 432x288 with 1 Axes>"
            ],
            "image/png": "[encoded data removed]"
          },
          "metadata": {
            "needs_background": "light"
          }
        }
      ]
    }
  ]
}