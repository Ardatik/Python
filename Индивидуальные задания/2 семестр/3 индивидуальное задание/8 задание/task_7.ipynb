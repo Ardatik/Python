{
  "cells": [
    {
      "cell_type": "markdown",
      "metadata": {
        "id": "7mxK1JOfKTih"
      },
      "source": [
        "Произведем ипорт необходимых библиотек."
      ]
    },
    {
      "cell_type": "code",
      "execution_count": 1,
      "metadata": {
        "id": "T-HmjZUGKPVH"
      },
      "outputs": [],
      "source": [
        "import matplotlib.pyplot as plt\n",
        "import numpy as np"
      ]
    },
    {
      "cell_type": "markdown",
      "metadata": {
        "id": "jyTiveHVKk1f"
      },
      "source": [
        "Рассмотрим функции."
      ]
    },
    {
      "cell_type": "code",
      "execution_count": 2,
      "metadata": {
        "id": "ZY4FaEv0Kp9l"
      },
      "outputs": [],
      "source": [
        "def f_x(x):\n",
        "    y = (x**3 + 4) / x**2\n",
        "    return y\n",
        "\n",
        "def g_x(x: np.linspace, a: list):\n",
        "    y = 0\n",
        "    for i in range(len(a)):\n",
        "        y += float(a[i])*(x**i)\n",
        "    return y\n",
        "\n",
        "def fmin(x_l, x_r):\n",
        "    dx = 1e-2\n",
        "    for _ in range(1000):\n",
        "        x_c = 0.5*(x_l + x_r)\n",
        "        if f_x(x_c - dx) > f_x(x_c + dx):\n",
        "            x_l = x_c\n",
        "        else: x_r = x_c\n",
        "    return x_c\n",
        "\n",
        "def fmax(x_l, x_r):\n",
        "    dx = 1e-2\n",
        "    for _ in range(1000):\n",
        "        x_c = 0.5*(x_l + x_r)\n",
        "        if f_x(x_c - dx) < f_x(x_c + dx):\n",
        "            x_l = x_c\n",
        "        else: x_r = x_c\n",
        "    return x_c"
      ]
    },
    {
      "cell_type": "markdown",
      "metadata": {
        "id": "5Hzt6DzCKrpE"
      },
      "source": [
        "Обозначим константы и найдем min и max."
      ]
    },
    {
      "cell_type": "code",
      "execution_count": 3,
      "metadata": {
        "id": "KZl89VFbK0ZG"
      },
      "outputs": [],
      "source": [
        "dx = 1e-3\n",
        "x = np.linspace(-3, 4, 1000)\n",
        "y = f_x(x)\n",
        "\n",
        "k = 40\n",
        "ar = [float(-3 + (7 * i / k)) for i in range(k + 1)]\n",
        "pts = [[], []]\n",
        "for i in range(len(ar) - 1):\n",
        "    if not((-0.25 < ar[i] < 0.5) or (-0.25 < ar[i + 1] < 0.5)):\n",
        "        mn = fmin(ar[i], ar[i + 1])\n",
        "        mx = fmax(ar[i], ar[i + 1])\n",
        "        pts[0].append(mn)\n",
        "        pts[1].append(f_x(mn))\n",
        "        pts[0].append(mx)\n",
        "        pts[1].append(f_x(mx))"
      ]
    },
    {
      "cell_type": "markdown",
      "metadata": {
        "id": "bMngBOYSK5s5"
      },
      "source": [
        "Отсортируем x."
      ]
    },
    {
      "cell_type": "code",
      "execution_count": 4,
      "metadata": {
        "id": "fvA1-i_7LEHB"
      },
      "outputs": [],
      "source": [
        "for i in range(len(pts[0])):\n",
        "    for j in range(i, len(pts[0])):\n",
        "        if pts[0][i] >= pts[0][j]:\n",
        "            pts[0][i], pts[0][j] = pts[0][j], pts[0][i]\n",
        "            pts[1][i], pts[1][j] = pts[1][j], pts[1][i]"
      ]
    },
    {
      "cell_type": "markdown",
      "metadata": {
        "id": "9U6Yk4-4LGW-"
      },
      "source": [
        "Уберем лишние точки."
      ]
    },
    {
      "cell_type": "code",
      "execution_count": 5,
      "metadata": {
        "id": "jTZHS2CaLeKU"
      },
      "outputs": [],
      "source": [
        "pts_ = [[], []]\n",
        "for i in range(len(pts[0])):\n",
        "    if (i == 0) or (i == len(pts[0]) - 1):\n",
        "        pts_[0].append(pts[0][i])\n",
        "        pts_[1].append(pts[1][i])\n",
        "    elif not((pts[1][i-1] <= pts[1][i] <= pts[1][i+1]) or (pts[1][i-1] >= pts[1][i] >= pts[1][i+1])):\n",
        "        pts_[0].append(pts[0][i])\n",
        "        pts_[1].append(pts[1][i])"
      ]
    },
    {
      "cell_type": "markdown",
      "metadata": {
        "id": "wdkPLCqMLfMb"
      },
      "source": [
        "Построим график."
      ]
    },
    {
      "cell_type": "code",
      "execution_count": 6,
      "metadata": {
        "colab": {
          "base_uri": "https://localhost:8080/",
          "height": 265
        },
        "id": "TKFR01F2LipP",
        "outputId": "6e8d224d-2f9c-4f41-eeb2-2a6f42978b78"
      },
      "outputs": [
        {
          "data": {
            "image/png": "[encoded data removed]",
            "text/plain": [
              "<Figure size 432x288 with 1 Axes>"
            ]
          },
          "metadata": {
            "needs_background": "light"
          },
          "output_type": "display_data"
        }
      ],
      "source": [
        "fig = plt.figure(10)\n",
        "ax = fig.add_subplot(1, 1, 1)\n",
        "ax.grid(True)\n",
        "x1 = np.linspace(-3, -0.25, 100)\n",
        "x2 = np.linspace(0.5, 4, 100)\n",
        "y1 = f_x(x1)\n",
        "y2 = f_x(x2)\n",
        "ax.plot(x1, y1, linewidth=1.5, color='black')\n",
        "ax.plot(x2, y2, linewidth=1.5, color='black')\n",
        "ax.scatter(pts_[0], pts_[1], linewidth=1, color='red', marker='*')\n",
        "plt.show()"
      ]
    }
  ],
  "metadata": {
    "colab": {
      "name": "task_7.ipynb",
      "provenance": []
    },
    "interpreter": {
      "hash": "2c3a313d62747f3953029ccee5ce2d7712e806ea1bb2978a6cb4d87a235ddcc0"
    },
    "kernelspec": {
      "display_name": "Python 3.10.4 64-bit (system)",
      "language": "python",
      "name": "python3"
    },
    "language_info": {
      "codemirror_mode": {
        "name": "ipython",
        "version": 3
      },
      "file_extension": ".py",
      "mimetype": "text/x-python",
      "name": "python",
      "nbconvert_exporter": "python",
      "pygments_lexer": "ipython3",
      "version": "3.10.4"
    }
  },
  "nbformat": 4,
  "nbformat_minor": 0
}
