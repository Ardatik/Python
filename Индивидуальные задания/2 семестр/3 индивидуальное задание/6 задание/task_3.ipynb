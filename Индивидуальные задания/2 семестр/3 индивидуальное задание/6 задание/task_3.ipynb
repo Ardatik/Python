{
  "cells": [
    {
      "cell_type": "markdown",
      "metadata": {
        "id": "qXoJyV35481I"
      },
      "source": [
        "Произведем импорт необходимых пакетов."
      ]
    },
    {
      "cell_type": "code",
      "execution_count": 1,
      "metadata": {
        "id": "y4EHPpLK0Ym3"
      },
      "outputs": [],
      "source": [
        "import matplotlib.pyplot as plt\n",
        "import numpy as np"
      ]
    },
    {
      "cell_type": "markdown",
      "metadata": {
        "id": "TLrkkJ480dYB"
      },
      "source": [
        "Рассмотрим функцию."
      ]
    },
    {
      "cell_type": "code",
      "execution_count": 2,
      "metadata": {
        "id": "es2_HXWB3pWQ"
      },
      "outputs": [],
      "source": [
        "def f(x):\n",
        "  return x**2 + 16/x - 16"
      ]
    },
    {
      "cell_type": "markdown",
      "metadata": {
        "id": "6_qGH-qp6Lbs"
      },
      "source": [
        "Создадим переменные x и y."
      ]
    },
    {
      "cell_type": "code",
      "execution_count": 3,
      "metadata": {
        "id": "QO6_Ybll6RZC"
      },
      "outputs": [],
      "source": [
        "a = 1\n",
        "b = 4\n",
        "x = np.linspace(a, b, 30)\n",
        "y = f(x)"
      ]
    },
    {
      "cell_type": "markdown",
      "metadata": {
        "id": "mjvJi4XR7GSd"
      },
      "source": [
        "Построим график функции."
      ]
    },
    {
      "cell_type": "code",
      "execution_count": 4,
      "metadata": {
        "colab": {
          "base_uri": "https://localhost:8080/",
          "height": 265
        },
        "id": "jgIphZyj7F_Z",
        "outputId": "2910a190-a00c-4b74-dead-803e4e9d62ae"
      },
      "outputs": [
        {
          "data": {
            "image/png": "[encoded data removed]",
            "text/plain": [
              "<Figure size 432x288 with 1 Axes>"
            ]
          },
          "metadata": {
            "needs_background": "light"
          },
          "output_type": "display_data"
        }
      ],
      "source": [
        "fig = plt.figure()\n",
        "ax = fig.add_subplot(1, 1, 1)\n",
        "ax.plot(x, y, color = 'black')\n",
        "plt.show()"
      ]
    },
    {
      "cell_type": "markdown",
      "metadata": {
        "id": "xVy6nvqQ8AIM"
      },
      "source": [
        "Найдем наибольшее и наименьшее значение функции на отрезке [1;4]."
      ]
    },
    {
      "cell_type": "code",
      "execution_count": 5,
      "metadata": {
        "colab": {
          "base_uri": "https://localhost:8080/"
        },
        "id": "YycqxkhI8omZ",
        "outputId": "8c76831c-03a9-4125-daa6-d9fddcf3d8de"
      },
      "outputs": [
        {
          "name": "stdout",
          "output_type": "stream",
          "text": [
            "Наибольшее значение функции - \"3.95\"\n",
            "Наименьшее - \"1.9958984374999993\"\n"
          ]
        }
      ],
      "source": [
        "a = 1\n",
        "b = 4\n",
        "d_x = 0.1\n",
        "x_1 = (a + b - d_x) / 2\n",
        "x_2 = (a + b + d_x) / 2\n",
        "eps = 0.05\n",
        "\n",
        "while (b - a) / 2 > eps:\n",
        "  if f(x_1) <= f(x_2):\n",
        "    a = x_1\n",
        "    x_1 = (a + b - d_x) / 2\n",
        "    x_2 = (a + b + d_x) / 2\n",
        "  else:\n",
        "    b = x_2\n",
        "    x_1 = (a + b - d_x) / 2\n",
        "    x_2 = (a + b + d_x) / 2\n",
        "max_znach = (a + b) / 2\n",
        "print(f'Наибольшее значение функции - \"{max_znach}\"')\n",
        "\n",
        "a = 1\n",
        "b = 4\n",
        "d_x = 0.1\n",
        "x_1 = (a + b - d_x) / 2\n",
        "x_2 = (a + b + d_x) / 2\n",
        "eps = 0.06\n",
        "\n",
        "while (b - a) / 2 > eps:\n",
        "  if f(x_1) <= f(x_2):\n",
        "    b = x_2\n",
        "    x_1 = (a + b - d_x) / 2\n",
        "    x_2 = (a + b + d_x) / 2\n",
        "  else:\n",
        "    a = x_1\n",
        "    x_1 = (a + b - d_x) / 2\n",
        "    x_2 = (a + b + d_x) / 2\n",
        "min_znach = (a + b) / 2\n",
        "print(f'Наименьшее - \"{min_znach}\"')"
      ]
    },
    {
      "cell_type": "markdown",
      "metadata": {
        "id": "kGROy56ZL943"
      },
      "source": [
        "Добавим точки наибольшего и наименьшего значения функции на график."
      ]
    },
    {
      "cell_type": "code",
      "execution_count": 6,
      "metadata": {
        "colab": {
          "base_uri": "https://localhost:8080/",
          "height": 265
        },
        "id": "MkpNgRrfMboi",
        "outputId": "8ea0f5f4-3592-4abb-d450-3de3629964e4"
      },
      "outputs": [
        {
          "data": {
            "image/png": "[encoded data removed]",
            "text/plain": [
              "<Figure size 432x288 with 1 Axes>"
            ]
          },
          "metadata": {
            "needs_background": "light"
          },
          "output_type": "display_data"
        }
      ],
      "source": [
        "fig = plt.figure()\n",
        "ax = fig.add_subplot(1, 1, 1)\n",
        "x_min = np.linspace(min_znach, min_znach)\n",
        "y_min = np.interp(x_min, x, y)\n",
        "x_max = np.linspace(max_znach, max_znach)\n",
        "y_max = np.interp(x_max, x, y)\n",
        "ax.plot(x, y, color = 'black')\n",
        "ax.plot(x_min, y_min, '*', color = 'red')\n",
        "ax.plot(x_max, y_max, '*', color = 'blue')\n",
        "plt.show()"
      ]
    }
  ],
  "metadata": {
    "colab": {
      "authorship_tag": "ABX9TyOqWiYfqWiu/Chbn8OrAkgR",
      "include_colab_link": true,
      "name": "task_3_page_49.ipynb",
      "provenance": []
    },
    "interpreter": {
      "hash": "2c3a313d62747f3953029ccee5ce2d7712e806ea1bb2978a6cb4d87a235ddcc0"
    },
    "kernelspec": {
      "display_name": "Python 3.10.4 64-bit (system)",
      "language": "python",
      "name": "python3"
    },
    "language_info": {
      "codemirror_mode": {
        "name": "ipython",
        "version": 3
      },
      "file_extension": ".py",
      "mimetype": "text/x-python",
      "name": "python",
      "nbconvert_exporter": "python",
      "pygments_lexer": "ipython3",
      "version": "3.10.4"
    }
  },
  "nbformat": 4,
  "nbformat_minor": 0
}
