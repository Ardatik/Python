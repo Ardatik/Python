{
  "cells": [
    {
      "cell_type": "markdown",
      "metadata": {
        "id": "7mxK1JOfKTih"
      },
      "source": [
        "Произведем ипорт необходимых библиотек."
      ]
    },
    {
      "cell_type": "code",
      "execution_count": 1,
      "metadata": {
        "id": "T-HmjZUGKPVH"
      },
      "outputs": [],
      "source": [
        "import matplotlib.pyplot as plt\n",
        "import numpy as np"
      ]
    },
    {
      "cell_type": "markdown",
      "metadata": {
        "id": "jyTiveHVKk1f"
      },
      "source": [
        "Рассмотрим функции."
      ]
    },
    {
      "cell_type": "code",
      "execution_count": 2,
      "metadata": {
        "id": "ZY4FaEv0Kp9l"
      },
      "outputs": [],
      "source": [
        "def f_x(x):\n",
        "    y = x**2 - 4 * x - (x - 2) * np.log(x - 1)\n",
        "    return y\n",
        "\n",
        "def deriv(x,y):\n",
        "    x_ = np.zeros((len(x)-1), dtype=np.longdouble)\n",
        "    y_ = np.zeros((len(x)-1), dtype=np.longdouble)\n",
        "    for i in range(len(x)-1):\n",
        "        x_[i] = (x[i+1]+x[i])/2.0\n",
        "        y_[i] = (y[i+1]-y[i])/(x[i+1]-x[i])\n",
        "    return x_, y_"
      ]
    },
    {
      "cell_type": "markdown",
      "metadata": {
        "id": "bMngBOYSK5s5"
      },
      "source": [
        "Обозначим константы, сформируем точки, найдем ненулевую производную i-го порядка и построим график."
      ]
    },
    {
      "cell_type": "code",
      "execution_count": 3,
      "metadata": {
        "colab": {
          "base_uri": "https://localhost:8080/",
          "height": 380
        },
        "id": "fvA1-i_7LEHB",
        "outputId": "1f2efc29-3433-4f80-d4b5-4563554e4140"
      },
      "outputs": [
        {
          "name": "stdout",
          "output_type": "stream",
          "text": [
            "Производная \"3.1564958771213573e-06\" 1-го порядка\n",
            "Производная \"0.007495838463815563\" 2-го порядка\n",
            "Производная \"3.000094703939679\" 3-го порядка\n",
            "x_0 - Точка возрастания\n"
          ]
        },
        {
          "data": {
            "image/png": "[encoded data removed]",
            "text/plain": [
              "<Figure size 432x288 with 1 Axes>"
            ]
          },
          "metadata": {
            "needs_background": "light"
          },
          "output_type": "display_data"
        }
      ],
      "source": [
        "cols =['#af00fc','#3160ff','#007aff','#0089cc','#008bb9','#008ba7']\n",
        "dx = 1e-2\n",
        "x0 = float(2)\n",
        "y0 = f_x(x0)\n",
        "x = np.linspace(x0 - 0.5, x0 + 0.5, 200)\n",
        "y = f_x(x)\n",
        "\n",
        "fig = plt.figure()\n",
        "ax = fig.add_subplot(1, 1, 1)\n",
        "ax.grid(True)\n",
        "ax.plot(x, y, linewidth=1.5, color=cols[0], label=f'Исходная функция')\n",
        "ax.scatter(x0, y0, linewidth=1, color='red', marker='*')\n",
        "\n",
        "xder, yder = x, y\n",
        "i, der = 0, 0\n",
        "while round(der, 1) == 0:\n",
        "    i += 1\n",
        "    xder, yder = deriv(xder, yder)\n",
        "    ax.plot(xder, yder, linewidth=1.5, color=cols[i], label=f'Производная {i}-го порядка')\n",
        "    der = yder[len(yder)//2]\n",
        "    print(f'Производная \"{der}\" {i}-го порядка')\n",
        "\n",
        "if (i % 2 == 0) and (der > 0): print('x_0 - Локальный минимум')\n",
        "elif (i % 2 == 0) and (der < 0): print('x_0 - Локальный максимум')\n",
        "elif (der < 0): print('x_0 - Точка убывания')\n",
        "else: print('x_0 - Точка возрастания')\n",
        "ax.legend()\n",
        "plt.show()"
      ]
    }
  ],
  "metadata": {
    "colab": {
      "name": "task_5.ipynb",
      "provenance": []
    },
    "interpreter": {
      "hash": "2c3a313d62747f3953029ccee5ce2d7712e806ea1bb2978a6cb4d87a235ddcc0"
    },
    "kernelspec": {
      "display_name": "Python 3.10.4 64-bit (system)",
      "language": "python",
      "name": "python3"
    },
    "language_info": {
      "codemirror_mode": {
        "name": "ipython",
        "version": 3
      },
      "file_extension": ".py",
      "mimetype": "text/x-python",
      "name": "python",
      "nbconvert_exporter": "python",
      "pygments_lexer": "ipython3",
      "version": "3.10.4"
    }
  },
  "nbformat": 4,
  "nbformat_minor": 0
}
