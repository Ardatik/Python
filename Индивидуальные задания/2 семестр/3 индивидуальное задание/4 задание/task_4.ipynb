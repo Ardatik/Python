{
  "nbformat": 4,
  "nbformat_minor": 0,
  "metadata": {
    "colab": {
      "name": "task_4.ipynb",
      "provenance": [],
      "authorship_tag": "ABX9TyPEL7yALSjLyuZ2CfzYQ5cW"
    },
    "kernelspec": {
      "name": "python3",
      "display_name": "Python 3"
    },
    "language_info": {
      "name": "python"
    }
  },
  "cells": [
    {
      "cell_type": "markdown",
      "source": [
        "Вычислить приближенно при помощи дифференциала."
      ],
      "metadata": {
        "id": "NLnrP4O463gc"
      }
    },
    {
      "cell_type": "markdown",
      "source": [
        "y = x^(1/3), x = 7.76"
      ],
      "metadata": {
        "id": "Z1CBYNK68B3C"
      }
    },
    {
      "cell_type": "markdown",
      "source": [
        "Произведем импорт необходимых библиотек."
      ],
      "metadata": {
        "id": "AZ9YTGJF7i3s"
      }
    },
    {
      "cell_type": "code",
      "execution_count": 1,
      "metadata": {
        "id": "ceCjG8zyvrwG"
      },
      "outputs": [],
      "source": [
        "from sympy import *"
      ]
    },
    {
      "cell_type": "markdown",
      "source": [
        "Рассмотрим функцию."
      ],
      "metadata": {
        "id": "3YXa9WZmguLp"
      }
    },
    {
      "cell_type": "code",
      "source": [
        "def f_x(x: float):\n",
        "    return x**(1/3)"
      ],
      "metadata": {
        "id": "t_sYn0qhRa9L"
      },
      "execution_count": 2,
      "outputs": []
    },
    {
      "cell_type": "markdown",
      "source": [
        "\n",
        "Найдем производную с помощью библиотеки sympy."
      ],
      "metadata": {
        "id": "uZRq1GiSgzeY"
      }
    },
    {
      "cell_type": "code",
      "source": [
        "diff_x = Symbol('x')\n",
        "diff_y = diff(f_x(diff_x))\n",
        "print(f'Значение производной - \"{diff_y}\"')"
      ],
      "metadata": {
        "colab": {
          "base_uri": "https://localhost:8080/"
        },
        "id": "mOq6emEvRmap",
        "outputId": "1f108c44-42ac-42d4-b6f6-e3436c218ba2"
      },
      "execution_count": 3,
      "outputs": [
        {
          "output_type": "stream",
          "name": "stdout",
          "text": [
            "Значение производной - \"0.333333333333333*x**(-0.666666666666667)\"\n"
          ]
        }
      ]
    },
    {
      "cell_type": "markdown",
      "source": [
        "Обозначим константы и подсчитаем примерное значение, а также сравним с прямым вычислением."
      ],
      "metadata": {
        "id": "3dWJoJT1g1Ju"
      }
    },
    {
      "cell_type": "code",
      "source": [
        "x = 7.76\n",
        "x_0 = 8\n",
        "delta_x = x - x\n",
        "y_0 = f_x(x_0)\n",
        "dx_0 = 0.02\n",
        "\n",
        "diff_y_0 = diff_y.replace(diff_x, x_0)\n",
        "print(f'Значение производной в точке x_0 - \"{diff_y_0}\"')\n",
        "y_x = y_0 + diff_y_0 * delta_x - dx_0\n",
        "print(f'Примерное значение с помощью дифференциала в точке x - \"{y_x}\"')\n",
        "print(f'Разность, получаемая при сравнении прямого вычисления и приближенного - \"{f_x(x) - y_x}\"')"
      ],
      "metadata": {
        "colab": {
          "base_uri": "https://localhost:8080/"
        },
        "id": "Fp0BNeDJRhjT",
        "outputId": "67dab3db-7730-4d1f-b40b-fae66413ae98"
      },
      "execution_count": 4,
      "outputs": [
        {
          "output_type": "stream",
          "name": "stdout",
          "text": [
            "Значение производной в точке x_0 - \"0.0833333333333333\"\n",
            "Примерное значение с помощью дифференциала в точке x - \"1.98000000000000\"\n",
            "Разность, получаемая при сравнении прямого вычисления и приближенного - \"-0.000203401501741363\"\n"
          ]
        }
      ]
    }
  ]
}