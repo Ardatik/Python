{
  "cells": [
    {
      "cell_type": "markdown",
      "metadata": {
        "id": "NLnrP4O463gc"
      },
      "source": [
        "Вычислить lim a_n при n → ∞"
      ]
    },
    {
      "cell_type": "markdown",
      "metadata": {
        "id": "Z1CBYNK68B3C"
      },
      "source": [
        "a_n = (n * (5 * n^2)^(1/3) + (9 * n^8 + 1)^(1/4)) / ((n + sqrt(n)) * sqrt(7 - n + n^2))"
      ]
    },
    {
      "cell_type": "markdown",
      "metadata": {
        "id": "AZ9YTGJF7i3s"
      },
      "source": [
        "Произведем импорт необходимых библиотек."
      ]
    },
    {
      "cell_type": "code",
      "execution_count": 1,
      "metadata": {
        "id": "ceCjG8zyvrwG"
      },
      "outputs": [],
      "source": [
        "import matplotlib.pyplot as plt\n",
        "import numpy as np"
      ]
    },
    {
      "cell_type": "markdown",
      "metadata": {
        "id": "3YXa9WZmguLp"
      },
      "source": [
        "Рассмотрим функцию."
      ]
    },
    {
      "cell_type": "code",
      "execution_count": 2,
      "metadata": {
        "id": "t_sYn0qhRa9L"
      },
      "outputs": [],
      "source": [
        "def f_n(n: int):\n",
        "    return (n * (5 * n**2)**(1/3) + (9 * n**8 + 1)**(1/4)) / ((n + n**1/2) * (7 - n + n**2))**1/2"
      ]
    },
    {
      "cell_type": "markdown",
      "metadata": {
        "id": "3dWJoJT1g1Ju"
      },
      "source": [
        "Обозначим константы, найдем предел и сформируем точки."
      ]
    },
    {
      "cell_type": "code",
      "execution_count": 3,
      "metadata": {
        "colab": {
          "base_uri": "https://localhost:8080/"
        },
        "id": "Fp0BNeDJRhjT",
        "outputId": "4c260581-8210-425c-d6ca-06e5a0f557ea"
      },
      "outputs": [
        {
          "name": "stdout",
          "output_type": "stream",
          "text": [
            "Предел функции a_n - \"0.0007852275454548198\"\n",
            "Предел функции к которому стремится a_n - \"0.0\"\n",
            "Дельта, при котором функция стремится к пределу - \"9.978198269572748e-07\"\n",
            "n, при которой дельта имеет вид - \"814\"\n"
          ]
        }
      ],
      "source": [
        "mark = True\n",
        "run_n = 1\n",
        "eps = 1e-6\n",
        "delta = 0\n",
        "x, y = [], []\n",
        "\n",
        "while mark:\n",
        "    run_n += 1\n",
        "    a_n = f_n(run_n)\n",
        "    if len(y) > 1:\n",
        "        delta = abs(y[-1] - a_n)\n",
        "    x.append(run_n)\n",
        "    y.append(a_n)\n",
        "    if (delta > 0) and (delta < eps): mark = False\n",
        "lim_f = round(y[-1], 2)\n",
        "print(f'Предел функции a_n - \"{a_n}\"\\nПредел функции к которому стремится a_n - \"{lim_f}\"\\nДельта, при котором функция стремится к пределу - \"{delta}\"\\nn, при которой дельта имеет вид - \"{run_n}\"')"
      ]
    },
    {
      "cell_type": "markdown",
      "metadata": {
        "id": "N0IIayvshCq5"
      },
      "source": [
        "Построим график функции."
      ]
    },
    {
      "cell_type": "code",
      "execution_count": 4,
      "metadata": {
        "colab": {
          "base_uri": "https://localhost:8080/",
          "height": 265
        },
        "id": "9D-PBM-tUpWj",
        "outputId": "a210611c-3410-4a0f-fc82-d0549e303916"
      },
      "outputs": [
        {
          "data": {
            "image/png": "[encoded data removed]",
            "text/plain": [
              "<Figure size 432x288 with 1 Axes>"
            ]
          },
          "metadata": {
            "needs_background": "light"
          },
          "output_type": "display_data"
        }
      ],
      "source": [
        "fig = plt.figure()\n",
        "ax = fig.add_subplot(1, 1, 1)\n",
        "ax.grid(True)\n",
        "ax.scatter(x, y, color='black', marker='*', linewidth=0.5)\n",
        "ax.plot(np.linspace(0, len(x)*1.05), np.linspace(float(lim_f), float(lim_f)), linewidth=1.5, color='red')\n",
        "plt.show()"
      ]
    }
  ],
  "metadata": {
    "colab": {
      "name": "task_3.ipynb",
      "provenance": []
    },
    "interpreter": {
      "hash": "2c3a313d62747f3953029ccee5ce2d7712e806ea1bb2978a6cb4d87a235ddcc0"
    },
    "kernelspec": {
      "display_name": "Python 3.10.4 64-bit (system)",
      "language": "python",
      "name": "python3"
    },
    "language_info": {
      "codemirror_mode": {
        "name": "ipython",
        "version": 3
      },
      "file_extension": ".py",
      "mimetype": "text/x-python",
      "name": "python",
      "nbconvert_exporter": "python",
      "pygments_lexer": "ipython3",
      "version": "3.10.4"
    }
  },
  "nbformat": 4,
  "nbformat_minor": 0
}
