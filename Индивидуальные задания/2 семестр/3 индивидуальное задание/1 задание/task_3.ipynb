{
  "nbformat": 4,
  "nbformat_minor": 0,
  "metadata": {
    "colab": {
      "name": "task_3.ipynb",
      "provenance": [],
      "authorship_tag": "ABX9TyNWKPjEhUyjteCBfF37VrDu"
    },
    "kernelspec": {
      "name": "python3",
      "display_name": "Python 3"
    },
    "language_info": {
      "name": "python"
    }
  },
  "cells": [
    {
      "cell_type": "markdown",
      "source": [
        "Вычислить lim a_n при n → ∞"
      ],
      "metadata": {
        "id": "NLnrP4O463gc"
      }
    },
    {
      "cell_type": "markdown",
      "source": [
        "a_n = (n * (5 * n^2)^(1/3) + (9 * n^8 + 1)^(1/4)) / ((n + sqrt(n)) * sqrt(7 - n + n^2))"
      ],
      "metadata": {
        "id": "Z1CBYNK68B3C"
      }
    },
    {
      "cell_type": "markdown",
      "source": [
        "Произведем импорт необходимых библиотек."
      ],
      "metadata": {
        "id": "AZ9YTGJF7i3s"
      }
    },
    {
      "cell_type": "code",
      "execution_count": 2,
      "metadata": {
        "id": "ceCjG8zyvrwG"
      },
      "outputs": [],
      "source": [
        "import matplotlib.pyplot as plt\n",
        "import numpy as np\n",
        "from sympy import *"
      ]
    },
    {
      "cell_type": "markdown",
      "source": [
        "Рассмотрим функцию."
      ],
      "metadata": {
        "id": "3YXa9WZmguLp"
      }
    },
    {
      "cell_type": "code",
      "source": [
        "def f_n(n: int):\n",
        "    return (n * (5 * n**2)**(1/3) + (9 * n**8 + 1)**(1/4)) / ((n + sqrt(n)) * sqrt(7 - n + n**2))"
      ],
      "metadata": {
        "id": "t_sYn0qhRa9L"
      },
      "execution_count": 3,
      "outputs": []
    },
    {
      "cell_type": "markdown",
      "source": [
        "\n",
        "Найдем предел функции с помощью библиотеки sympy."
      ],
      "metadata": {
        "id": "uZRq1GiSgzeY"
      }
    },
    {
      "cell_type": "code",
      "source": [
        "n = Symbol(\"x\")\n",
        "lim_f = float(limit(f_n(n), n, oo))\n",
        "print(lim_f)"
      ],
      "metadata": {
        "colab": {
          "base_uri": "https://localhost:8080/"
        },
        "id": "mOq6emEvRmap",
        "outputId": "85e16876-72a2-4e9f-87b7-77be14cc0f0e"
      },
      "execution_count": 4,
      "outputs": [
        {
          "output_type": "stream",
          "name": "stdout",
          "text": [
            "1.7320508075688772\n"
          ]
        }
      ]
    },
    {
      "cell_type": "markdown",
      "source": [
        "Обозначим константы и сформируем точки."
      ],
      "metadata": {
        "id": "3dWJoJT1g1Ju"
      }
    },
    {
      "cell_type": "code",
      "source": [
        "mark = True\n",
        "run_n = 1\n",
        "eps = 1e-6\n",
        "delta = 0\n",
        "x, y = [], []\n",
        "\n",
        "while mark:\n",
        "    run_n += 1\n",
        "    an = f_n(run_n)\n",
        "    if len(y) > 1:\n",
        "        delta = abs(y[-1] - an)\n",
        "    x.append(run_n)\n",
        "    y.append(an)\n",
        "    if (delta > 0) and (delta < eps): mark = False\n",
        "lim_f = round(y[-1], 2)\n",
        "print(an, delta, run_n)\n",
        "print(lim_f)"
      ],
      "metadata": {
        "colab": {
          "base_uri": "https://localhost:8080/"
        },
        "id": "Fp0BNeDJRhjT",
        "outputId": "4cdc631a-1cf5-42ef-8e00-4839423a76ce"
      },
      "execution_count": 6,
      "outputs": [
        {
          "output_type": "stream",
          "name": "stdout",
          "text": [
            "1.80060614519932*sqrt(243250819)/(3*sqrt(1733) + 15597) -1.80060614519932*sqrt(243250819)/(3*sqrt(1733) + 15597) + 5.40182284627479*sqrt(27024403)/(2*sqrt(3899) + 15596) 15597\n",
            "1.79\n"
          ]
        }
      ]
    },
    {
      "cell_type": "markdown",
      "source": [
        "Построим график функции."
      ],
      "metadata": {
        "id": "N0IIayvshCq5"
      }
    },
    {
      "cell_type": "code",
      "source": [
        "fig = plt.figure()\n",
        "ax = fig.add_subplot(1, 1, 1)\n",
        "ax.grid(True)\n",
        "ax.scatter(x, y, color='black', marker='*', linewidth=0.5)\n",
        "ax.plot(np.linspace(0, len(x)*1.05), np.linspace(float(lim_f), float(lim_f)), linewidth=1.5, color='red')\n",
        "plt.show()"
      ],
      "metadata": {
        "colab": {
          "base_uri": "https://localhost:8080/",
          "height": 269
        },
        "id": "9D-PBM-tUpWj",
        "outputId": "abce4bd7-0eca-420f-cb75-de0d0d50721b"
      },
      "execution_count": 9,
      "outputs": [
        {
          "output_type": "display_data",
          "data": {
            "text/plain": [
              "<Figure size 432x288 with 1 Axes>"
            ],
            "image/png": "[encoded data removed]"
          },
          "metadata": {
            "needs_background": "light"
          }
        }
      ]
    }
  ]
}