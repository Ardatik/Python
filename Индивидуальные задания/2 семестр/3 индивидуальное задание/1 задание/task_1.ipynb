{
  "nbformat": 4,
  "nbformat_minor": 0,
  "metadata": {
    "colab": {
      "name": "task_1.ipynb",
      "provenance": [],
      "authorship_tag": "ABX9TyMs1i/xKzWgZ4k9xCOWMxNm",
      "include_colab_link": true
    },
    "kernelspec": {
      "name": "python3",
      "display_name": "Python 3"
    },
    "language_info": {
      "name": "python"
    }
  },
  "cells": [
    {
      "cell_type": "markdown",
      "metadata": {
        "id": "view-in-github",
        "colab_type": "text"
      },
      "source": [
        "<a href=\"https://colab.research.google.com/github/FuryDan/Python/blob/main/%D0%98%D0%BD%D0%B4%D0%B8%D0%B2%D0%B8%D0%B4%D1%83%D0%B0%D0%BB%D1%8C%D0%BD%D1%8B%D0%B5%20%D0%B7%D0%B0%D0%B4%D0%B0%D0%BD%D0%B8%D1%8F/2%20%D1%81%D0%B5%D0%BC%D0%B5%D1%81%D1%82%D1%80/3%20%D0%B8%D0%BD%D0%B4%D0%B8%D0%B2%D0%B8%D0%B4%D1%83%D0%B0%D0%BB%D1%8C%D0%BD%D0%BE%D0%B5%20%D0%B7%D0%B0%D0%B4%D0%B0%D0%BD%D0%B8%D0%B5/1%20%D0%B7%D0%B0%D0%B4%D0%B0%D0%BD%D0%B8%D0%B5/task_1.ipynb\" target=\"_parent\"><img src=\"https://colab.research.google.com/assets/colab-badge.svg\" alt=\"Open In Colab\"/></a>"
      ]
    },
    {
      "cell_type": "markdown",
      "source": [
        "Доказать, что lim a_n = a при n → ∞"
      ],
      "metadata": {
        "id": "NLnrP4O463gc"
      }
    },
    {
      "cell_type": "markdown",
      "source": [
        "a_n = (3n - 2)/(2n - 1), a = 3/2"
      ],
      "metadata": {
        "id": "l8uj3ifO7ceq"
      }
    },
    {
      "cell_type": "markdown",
      "source": [
        "Произведем импорт необходимых библиотек."
      ],
      "metadata": {
        "id": "AZ9YTGJF7i3s"
      }
    },
    {
      "cell_type": "code",
      "execution_count": 1,
      "metadata": {
        "id": "Dz7POUWs56pL"
      },
      "outputs": [],
      "source": [
        "import matplotlib.pyplot as plt\n",
        "import numpy as np"
      ]
    },
    {
      "cell_type": "markdown",
      "source": [
        "Обозначим константы и найдем предел функции."
      ],
      "metadata": {
        "id": "cHkKCRrI9-r1"
      }
    },
    {
      "cell_type": "code",
      "source": [
        "mark = True\n",
        "run_n = 1\n",
        "lim_a = 3 / 2\n",
        "width = 100\n",
        "x, y = [], []\n",
        "eps = 1e-7\n",
        "\n",
        "while mark == True:\n",
        "     a_n = (3 * run_n - 2) / (2 * run_n - 1)\n",
        "     delta = abs(lim_a - a_n)\n",
        "     run_n += 1\n",
        "     if len(x) < width:\n",
        "         x.append(run_n)\n",
        "         y.append(a_n)\n",
        "     if delta < eps: \n",
        "         mark = False\n",
        "print(f'Предел функции - \"{lim_a}\"\\nДельта, при котором функция стремится к пределу - \"{delta}\"\\nn, при которой дельта имеет вид - \"{run_n}\"')"
      ],
      "metadata": {
        "colab": {
          "base_uri": "https://localhost:8080/"
        },
        "id": "FjgkTtil9-N9",
        "outputId": "c8f314b6-170f-4f7f-b67a-d5254faf920d"
      },
      "execution_count": 6,
      "outputs": [
        {
          "output_type": "stream",
          "name": "stdout",
          "text": [
            "Предел функции - \"1.5\"\n",
            "Дельта, при котором функция стремится к пределу - \"9.999998007437227e-08\"\n",
            "n, при которой дельта имеет вид - \"2500002\"\n"
          ]
        }
      ]
    },
    {
      "cell_type": "markdown",
      "source": [
        "Построим график функции."
      ],
      "metadata": {
        "id": "UVeMoEsq_6rz"
      }
    },
    {
      "cell_type": "code",
      "source": [
        "fig = plt.figure()\n",
        "ax = fig.add_subplot ( 1 ,  1 ,  1 ) \n",
        "ax.grid (True) \n",
        "ax.scatter(x, y, color = 'black', marker = '*', linewidth = 0.5)\n",
        "ax.plot(np.linspace(0, width + 1), np.linspace(3 / 2, 3 / 2 ), linewidth = 1.5,  color = 'red')\n",
        "plt.show()"
      ],
      "metadata": {
        "colab": {
          "base_uri": "https://localhost:8080/",
          "height": 265
        },
        "id": "1Ha2eKxEADKJ",
        "outputId": "6e2d67b5-a5a4-482d-c75d-84eac5f5e2c8"
      },
      "execution_count": 9,
      "outputs": [
        {
          "output_type": "display_data",
          "data": {
            "text/plain": [
              "<Figure size 432x288 with 1 Axes>"
            ],
            "image/png": "[encoded data removed]"
          },
          "metadata": {
            "needs_background": "light"
          }
        }
      ]
    },
    {
      "cell_type": "markdown",
      "source": [
        "Таким образом мы видим, что при наращивании x, y стремится к точке 3/2, но не достигает её"
      ],
      "metadata": {
        "id": "s5apoNTdB6Bb"
      }
    }
  ]
}