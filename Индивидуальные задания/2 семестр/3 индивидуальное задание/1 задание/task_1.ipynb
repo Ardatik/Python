{
  "cells": [
    {
      "cell_type": "markdown",
      "metadata": {
        "id": "NLnrP4O463gc"
      },
      "source": [
        "Доказать, что lim a_n = a при n → ∞"
      ]
    },
    {
      "cell_type": "markdown",
      "metadata": {
        "id": "l8uj3ifO7ceq"
      },
      "source": [
        "a_n = (3n - 2)/(2n - 1), a = 3/2"
      ]
    },
    {
      "cell_type": "markdown",
      "metadata": {
        "id": "AZ9YTGJF7i3s"
      },
      "source": [
        "Произведем импорт необходимых библиотек."
      ]
    },
    {
      "cell_type": "code",
      "execution_count": 1,
      "metadata": {
        "id": "Dz7POUWs56pL"
      },
      "outputs": [],
      "source": [
        "import matplotlib.pyplot as plt\n",
        "import numpy as np"
      ]
    },
    {
      "cell_type": "markdown",
      "metadata": {
        "id": "cHkKCRrI9-r1"
      },
      "source": [
        "Обозначим константы и найдем предел функции."
      ]
    },
    {
      "cell_type": "code",
      "execution_count": 2,
      "metadata": {
        "colab": {
          "base_uri": "https://localhost:8080/"
        },
        "id": "FjgkTtil9-N9",
        "outputId": "75975e84-0cb0-42de-d2f0-d52a94731372"
      },
      "outputs": [
        {
          "name": "stdout",
          "output_type": "stream",
          "text": [
            "Предел функции a_n с точностью до 9.999998007437227e-08 - \"1.49999990000002\"\n",
            "Предел функции к которому стремится a_n - \"1.5\"\n",
            "Дельта, при котором функция стремится к пределу - \"9.999998007437227e-08\"\n",
            "n, при которой дельта имеет вид - \"2500002\"\n"
          ]
        }
      ],
      "source": [
        "mark = True\n",
        "run_n = 1\n",
        "lim_a = 3 / 2\n",
        "width = 100\n",
        "x, y = [], []\n",
        "eps = 1e-7\n",
        "\n",
        "while mark == True:\n",
        "     a_n = (3 * run_n - 2) / (2 * run_n - 1)\n",
        "     delta = abs(lim_a - a_n)\n",
        "     run_n += 1\n",
        "     if len(x) < width:\n",
        "         x.append(run_n)\n",
        "         y.append(a_n)\n",
        "     if delta < eps: \n",
        "         mark = False\n",
        "print(f'Предел функции a_n с точностью до {lim_a - a_n} - \"{a_n}\"\\nПредел функции к которому стремится a_n - \"{lim_a}\"\\nДельта, при котором функция стремится к пределу - \"{delta}\"\\nn, при которой дельта имеет вид - \"{run_n}\"')"
      ]
    },
    {
      "cell_type": "markdown",
      "metadata": {
        "id": "UVeMoEsq_6rz"
      },
      "source": [
        "Построим график функции."
      ]
    },
    {
      "cell_type": "code",
      "execution_count": 3,
      "metadata": {
        "colab": {
          "base_uri": "https://localhost:8080/",
          "height": 265
        },
        "id": "1Ha2eKxEADKJ",
        "outputId": "19906646-6b5a-4853-d472-fbc3b6c45433"
      },
      "outputs": [
        {
          "data": {
            "image/png": "[encoded data removed]",
            "text/plain": [
              "<Figure size 432x288 with 1 Axes>"
            ]
          },
          "metadata": {
            "needs_background": "light"
          },
          "output_type": "display_data"
        }
      ],
      "source": [
        "fig = plt.figure()\n",
        "ax = fig.add_subplot ( 1 ,  1 ,  1 ) \n",
        "ax.grid (True) \n",
        "ax.scatter(x, y, color = 'black', marker = '*', linewidth = 0.5)\n",
        "ax.plot(np.linspace(0, width + 1), np.linspace(3 / 2, 3 / 2 ), linewidth = 1.5,  color = 'red')\n",
        "plt.show()"
      ]
    },
    {
      "cell_type": "markdown",
      "metadata": {
        "id": "s5apoNTdB6Bb"
      },
      "source": [
        "Таким образом мы видим, что при наращивании x, y стремится к точке 3/2, но не достигает её"
      ]
    }
  ],
  "metadata": {
    "colab": {
      "authorship_tag": "ABX9TyOV9fF/NNtuqXl0TmwZekcv",
      "name": "task_1.ipynb",
      "provenance": []
    },
    "interpreter": {
      "hash": "2c3a313d62747f3953029ccee5ce2d7712e806ea1bb2978a6cb4d87a235ddcc0"
    },
    "kernelspec": {
      "display_name": "Python 3.10.4 64-bit (system)",
      "language": "python",
      "name": "python3"
    },
    "language_info": {
      "codemirror_mode": {
        "name": "ipython",
        "version": 3
      },
      "file_extension": ".py",
      "mimetype": "text/x-python",
      "name": "python",
      "nbconvert_exporter": "python",
      "pygments_lexer": "ipython3",
      "version": "3.10.4"
    }
  },
  "nbformat": 4,
  "nbformat_minor": 0
}
