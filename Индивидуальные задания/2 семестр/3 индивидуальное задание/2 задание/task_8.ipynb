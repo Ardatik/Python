{
  "cells": [
    {
      "cell_type": "markdown",
      "metadata": {
        "id": "NLnrP4O463gc"
      },
      "source": [
        "Доказать, что функция f(x) непрерывна в точке x_0 (найти δ(ε) )."
      ]
    },
    {
      "cell_type": "markdown",
      "metadata": {
        "id": "Z1CBYNK68B3C"
      },
      "source": [
        "f(x) = 5·x^2 −1, x_0 = 6"
      ]
    },
    {
      "cell_type": "markdown",
      "metadata": {
        "id": "AZ9YTGJF7i3s"
      },
      "source": [
        "Произведем импорт необходимых библиотек."
      ]
    },
    {
      "cell_type": "code",
      "execution_count": 1,
      "metadata": {
        "id": "ceCjG8zyvrwG"
      },
      "outputs": [],
      "source": [
        "import matplotlib.pyplot as plt\n",
        "import numpy as np"
      ]
    },
    {
      "cell_type": "markdown",
      "metadata": {
        "id": "3YXa9WZmguLp"
      },
      "source": [
        "Рассмотрим функцию."
      ]
    },
    {
      "cell_type": "code",
      "execution_count": 2,
      "metadata": {
        "id": "t_sYn0qhRa9L"
      },
      "outputs": [],
      "source": [
        "def f_x(x):\n",
        "    y = 5 * x**2 - 1\n",
        "    return y"
      ]
    },
    {
      "cell_type": "markdown",
      "metadata": {
        "id": "uZRq1GiSgzeY"
      },
      "source": [
        "\n",
        "Обозначим константы и убедимся в непрерывности функции в точке x_0."
      ]
    },
    {
      "cell_type": "code",
      "execution_count": 3,
      "metadata": {
        "colab": {
          "base_uri": "https://localhost:8080/"
        },
        "id": "mOq6emEvRmap",
        "outputId": "59a18dba-269d-47ad-9a94-057f22b95da8"
      },
      "outputs": [
        {
          "name": "stdout",
          "output_type": "stream",
          "text": [
            "Функция непрерывна в точке \"6\"\n"
          ]
        }
      ],
      "source": [
        "delta = 10\n",
        "dx = 1e-5\n",
        "eps = 0\n",
        "x_0 = 6\n",
        "y_0 = f_x(x_0)\n",
        "\n",
        "while delta > dx:\n",
        "    eps -= 1\n",
        "    delta = f_x(x_0 + 10 ** eps) - y_0\n",
        "liml = round(f_x(x_0 - 10 ** eps))\n",
        "while delta > dx:\n",
        "    eps -= 1\n",
        "    delta = f_x(x_0 - 10 ** eps) - y_0\n",
        "limr = round(f_x(x_0 + 10 ** eps))\n",
        "if (limr == liml == y_0): \n",
        "    print(f'Функция непрерывна в точке \"{x_0}\"')\n",
        "else: \n",
        "    print(liml, y_0, limr)\n"
      ]
    },
    {
      "cell_type": "markdown",
      "metadata": {
        "id": "3dWJoJT1g1Ju"
      },
      "source": [
        "Сформируем точки и построим график."
      ]
    },
    {
      "cell_type": "code",
      "execution_count": 4,
      "metadata": {
        "colab": {
          "base_uri": "https://localhost:8080/",
          "height": 265
        },
        "id": "Fp0BNeDJRhjT",
        "outputId": "12669634-0be7-4592-b25a-5433845416bb"
      },
      "outputs": [
        {
          "data": {
            "image/png": "[encoded data removed]",
            "text/plain": [
              "<Figure size 432x288 with 1 Axes>"
            ]
          },
          "metadata": {
            "needs_background": "light"
          },
          "output_type": "display_data"
        }
      ],
      "source": [
        "x = np.linspace(x_0 - 1, x_0 + 1, 100)\n",
        "y = f_x(x)\n",
        "\n",
        "fig = plt.figure()\n",
        "ax = fig.add_subplot(1, 1, 1)\n",
        "ax.grid(True)\n",
        "ax.plot(x, y, color='black', linewidth=0.5)\n",
        "ax.scatter(x_0, f_x(x_0), color='red', marker='*')\n",
        "plt.show()"
      ]
    }
  ],
  "metadata": {
    "colab": {
      "authorship_tag": "ABX9TyMCCnbo1Vzrk+G18JXEibVS",
      "name": "task_8.ipynb",
      "provenance": []
    },
    "interpreter": {
      "hash": "2c3a313d62747f3953029ccee5ce2d7712e806ea1bb2978a6cb4d87a235ddcc0"
    },
    "kernelspec": {
      "display_name": "Python 3.10.4 64-bit (system)",
      "language": "python",
      "name": "python3"
    },
    "language_info": {
      "codemirror_mode": {
        "name": "ipython",
        "version": 3
      },
      "file_extension": ".py",
      "mimetype": "text/x-python",
      "name": "python",
      "nbconvert_exporter": "python",
      "pygments_lexer": "ipython3",
      "version": "3.10.4"
    }
  },
  "nbformat": 4,
  "nbformat_minor": 0
}
