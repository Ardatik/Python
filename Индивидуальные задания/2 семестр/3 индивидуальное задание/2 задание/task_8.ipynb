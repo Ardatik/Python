{
  "nbformat": 4,
  "nbformat_minor": 0,
  "metadata": {
    "colab": {
      "name": "task_8.ipynb",
      "provenance": [],
      "authorship_tag": "ABX9TyMCCnbo1Vzrk+G18JXEibVS"
    },
    "kernelspec": {
      "name": "python3",
      "display_name": "Python 3"
    },
    "language_info": {
      "name": "python"
    }
  },
  "cells": [
    {
      "cell_type": "markdown",
      "source": [
        "Доказать, что функция f(x) непрерывна в точке x_0 (найти δ(ε) )."
      ],
      "metadata": {
        "id": "NLnrP4O463gc"
      }
    },
    {
      "cell_type": "markdown",
      "source": [
        "f(x) = 5·x^2 −1, x_0 = 6"
      ],
      "metadata": {
        "id": "Z1CBYNK68B3C"
      }
    },
    {
      "cell_type": "markdown",
      "source": [
        "Произведем импорт необходимых библиотек."
      ],
      "metadata": {
        "id": "AZ9YTGJF7i3s"
      }
    },
    {
      "cell_type": "code",
      "execution_count": 5,
      "metadata": {
        "id": "ceCjG8zyvrwG"
      },
      "outputs": [],
      "source": [
        "import matplotlib.pyplot as plt\n",
        "import numpy as np"
      ]
    },
    {
      "cell_type": "markdown",
      "source": [
        "Рассмотрим функцию."
      ],
      "metadata": {
        "id": "3YXa9WZmguLp"
      }
    },
    {
      "cell_type": "code",
      "source": [
        "def f_x(x):\n",
        "    y = 5 * x**2 - 1\n",
        "    return y"
      ],
      "metadata": {
        "id": "t_sYn0qhRa9L"
      },
      "execution_count": 13,
      "outputs": []
    },
    {
      "cell_type": "markdown",
      "source": [
        "\n",
        "Обозначим константы и убедимся в непрерывности функции в точке x_0."
      ],
      "metadata": {
        "id": "uZRq1GiSgzeY"
      }
    },
    {
      "cell_type": "code",
      "source": [
        "delta = 10\n",
        "dx = 1e-5\n",
        "eps = 0\n",
        "x_0 = 6\n",
        "y_0 = f_x(x_0)\n",
        "\n",
        "while delta > dx:\n",
        "    eps -= 1\n",
        "    delta = f_x(x_0 + 10 ** eps) - y_0\n",
        "liml = round(f_x(x_0 - 10 ** eps))\n",
        "while delta > dx:\n",
        "    eps -= 1\n",
        "    delta = f_x(x_0 - 10 ** eps) - y_0\n",
        "limr = round(f_x(x_0 + 10 ** eps))\n",
        "if (limr == liml == y_0): \n",
        "    print(f'Функция непрерывна в точке \"{x_0}\"')\n",
        "else: \n",
        "    print(liml, y_0, limr)\n"
      ],
      "metadata": {
        "colab": {
          "base_uri": "https://localhost:8080/"
        },
        "id": "mOq6emEvRmap",
        "outputId": "59a18dba-269d-47ad-9a94-057f22b95da8"
      },
      "execution_count": 14,
      "outputs": [
        {
          "output_type": "stream",
          "name": "stdout",
          "text": [
            "Функция непрерывна в точке \"6\"\n"
          ]
        }
      ]
    },
    {
      "cell_type": "markdown",
      "source": [
        "Сформируем точки и построим график."
      ],
      "metadata": {
        "id": "3dWJoJT1g1Ju"
      }
    },
    {
      "cell_type": "code",
      "source": [
        "x = np.linspace(x_0 - 1, x_0 + 1, 100)\n",
        "y = f_x(x)\n",
        "\n",
        "fig = plt.figure()\n",
        "ax = fig.add_subplot(1, 1, 1)\n",
        "ax.grid(True)\n",
        "ax.plot(x, y, color='black', linewidth=0.5)\n",
        "ax.scatter(x_0, f_x(x_0), color='red', marker='*')\n",
        "plt.show()"
      ],
      "metadata": {
        "colab": {
          "base_uri": "https://localhost:8080/",
          "height": 265
        },
        "id": "Fp0BNeDJRhjT",
        "outputId": "12669634-0be7-4592-b25a-5433845416bb"
      },
      "execution_count": 15,
      "outputs": [
        {
          "output_type": "display_data",
          "data": {
            "text/plain": [
              "<Figure size 432x288 with 1 Axes>"
            ],
            "image/png": "[encoded data removed]"
          },
          "metadata": {
            "needs_background": "light"
          }
        }
      ]
    }
  ]
}