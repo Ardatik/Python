{
  "nbformat": 4,
  "nbformat_minor": 0,
  "metadata": {
    "colab": {
      "name": "task_7.ipynb",
      "provenance": [],
      "authorship_tag": "ABX9TyO4q1/fIGiVAf/MsyucpWNr"
    },
    "kernelspec": {
      "name": "python3",
      "display_name": "Python 3"
    },
    "language_info": {
      "name": "python"
    }
  },
  "cells": [
    {
      "cell_type": "markdown",
      "source": [
        "Доказать (найти δ(ε) )."
      ],
      "metadata": {
        "id": "NLnrP4O463gc"
      }
    },
    {
      "cell_type": "markdown",
      "source": [
        "lim (2 * x^2 + 5 * x - 3) / (x + 3) = -7 при x → -3"
      ],
      "metadata": {
        "id": "Z1CBYNK68B3C"
      }
    },
    {
      "cell_type": "markdown",
      "source": [
        "Произведем импорт необходимых библиотек."
      ],
      "metadata": {
        "id": "AZ9YTGJF7i3s"
      }
    },
    {
      "cell_type": "code",
      "execution_count": 5,
      "metadata": {
        "id": "ceCjG8zyvrwG"
      },
      "outputs": [],
      "source": [
        "import matplotlib.pyplot as plt\n",
        "import numpy as np"
      ]
    },
    {
      "cell_type": "markdown",
      "source": [
        "Рассмотрим функцию."
      ],
      "metadata": {
        "id": "3YXa9WZmguLp"
      }
    },
    {
      "cell_type": "code",
      "source": [
        "def f_x(x):\n",
        "    y = (2 * x**2 + 5 * x - 3)/(x + 3)\n",
        "    return y"
      ],
      "metadata": {
        "id": "t_sYn0qhRa9L"
      },
      "execution_count": 6,
      "outputs": []
    },
    {
      "cell_type": "markdown",
      "source": [
        "\n",
        "Обозначим константы и найдем delta и eps."
      ],
      "metadata": {
        "id": "uZRq1GiSgzeY"
      }
    },
    {
      "cell_type": "code",
      "source": [
        "delta = 10\n",
        "dx = 1e-5\n",
        "eps = 0\n",
        "x_0 = -3\n",
        "\n",
        "while delta > dx:\n",
        "    eps -= 1\n",
        "    delta = f_x(x_0 + 10 ** eps) - f_x(x_0 - 10 ** eps)\n",
        "print(f'Значение delta - \"{delta}\"\\nЗначение eps, при котором delta принимает вид - \"{eps}\"')\n"
      ],
      "metadata": {
        "colab": {
          "base_uri": "https://localhost:8080/"
        },
        "id": "mOq6emEvRmap",
        "outputId": "b0f17e29-5a91-4cad-fdd1-4b01d3afc118"
      },
      "execution_count": 8,
      "outputs": [
        {
          "output_type": "stream",
          "name": "stdout",
          "text": [
            "Значение delta - \"4.000355602329364e-06\"\n",
            "Значение eps, при котором delta принимает вид - \"-6\"\n"
          ]
        }
      ]
    },
    {
      "cell_type": "markdown",
      "source": [
        "Сформируем точки и построим график."
      ],
      "metadata": {
        "id": "3dWJoJT1g1Ju"
      }
    },
    {
      "cell_type": "code",
      "source": [
        "x = np.linspace(x_0 - 0.5, x_0 + 0.5, 100)\n",
        "y = f_x(x)\n",
        "\n",
        "fig = plt.figure()\n",
        "ax = fig.add_subplot(1, 1, 1)\n",
        "ax.grid(True)\n",
        "ax.plot(x, y, color='black', linewidth=0.5)\n",
        "ax.scatter(x_0, f_x(x_0 + 10 ** eps), color='red', marker='*')\n",
        "plt.show()"
      ],
      "metadata": {
        "colab": {
          "base_uri": "https://localhost:8080/",
          "height": 265
        },
        "id": "Fp0BNeDJRhjT",
        "outputId": "3bf10b49-6a93-4e0f-b9bb-843665ed821f"
      },
      "execution_count": 9,
      "outputs": [
        {
          "output_type": "display_data",
          "data": {
            "text/plain": [
              "<Figure size 432x288 with 1 Axes>"
            ],
            "image/png": "[encoded data removed]"
          },
          "metadata": {
            "needs_background": "light"
          }
        }
      ]
    }
  ]
}