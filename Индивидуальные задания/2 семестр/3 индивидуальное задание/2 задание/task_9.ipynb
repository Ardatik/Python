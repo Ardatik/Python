{
  "nbformat": 4,
  "nbformat_minor": 0,
  "metadata": {
    "colab": {
      "name": "task_9.ipynb",
      "provenance": [],
      "authorship_tag": "ABX9TyPvSqucpR2ehBmM97D32K55"
    },
    "kernelspec": {
      "name": "python3",
      "display_name": "Python 3"
    },
    "language_info": {
      "name": "python"
    }
  },
  "cells": [
    {
      "cell_type": "markdown",
      "source": [
        "Вычислить предел функции."
      ],
      "metadata": {
        "id": "NLnrP4O463gc"
      }
    },
    {
      "cell_type": "markdown",
      "source": [
        "lim ((x^3 - 2 * x - 1) * (x + 1))/ (x^4 - 4 * x^2 - x -5) при x → -1"
      ],
      "metadata": {
        "id": "Z1CBYNK68B3C"
      }
    },
    {
      "cell_type": "markdown",
      "source": [
        "Произведем импорт необходимых библиотек."
      ],
      "metadata": {
        "id": "AZ9YTGJF7i3s"
      }
    },
    {
      "cell_type": "code",
      "execution_count": 5,
      "metadata": {
        "id": "ceCjG8zyvrwG"
      },
      "outputs": [],
      "source": [
        "import matplotlib.pyplot as plt\n",
        "import numpy as np"
      ]
    },
    {
      "cell_type": "markdown",
      "source": [
        "Рассмотрим функцию."
      ],
      "metadata": {
        "id": "3YXa9WZmguLp"
      }
    },
    {
      "cell_type": "code",
      "source": [
        "def f_x(x):\n",
        "    y = ((x**3 - 2 * x - 1) * (x + 1))/ (x**4 - 4 * x**2 - x -5)\n",
        "    return y"
      ],
      "metadata": {
        "id": "t_sYn0qhRa9L"
      },
      "execution_count": 10,
      "outputs": []
    },
    {
      "cell_type": "markdown",
      "source": [
        "\n",
        "Обозначим константы и найдем delta и eps."
      ],
      "metadata": {
        "id": "uZRq1GiSgzeY"
      }
    },
    {
      "cell_type": "code",
      "source": [
        "delta = 10\n",
        "dx = 1e-5\n",
        "eps = 0\n",
        "x_0 = -1\n",
        "\n",
        "while delta > dx:\n",
        "    eps -= 1\n",
        "    delta = f_x(x_0 - 10 ** eps) - f_x(x_0 + 10 ** eps)\n",
        "lim = round(f_x(x_0 - 10 ** eps), 3)\n",
        "print(f'Значение lim - \"{lim}\"')\n"
      ],
      "metadata": {
        "colab": {
          "base_uri": "https://localhost:8080/"
        },
        "id": "mOq6emEvRmap",
        "outputId": "46e8a9ca-f8cb-4317-d841-292aaff15404"
      },
      "execution_count": 11,
      "outputs": [
        {
          "output_type": "stream",
          "name": "stdout",
          "text": [
            "Значение lim - \"-0.002\"\n"
          ]
        }
      ]
    },
    {
      "cell_type": "markdown",
      "source": [
        "Сформируем точки и построим график."
      ],
      "metadata": {
        "id": "3dWJoJT1g1Ju"
      }
    },
    {
      "cell_type": "code",
      "source": [
        "x = np.linspace(x_0 - 1, x_0 + 1, 100)\n",
        "y = f_x(x)\n",
        "\n",
        "fig = plt.figure()\n",
        "ax = fig.add_subplot(1, 1, 1)\n",
        "ax.grid(True)\n",
        "ax.plot(x, y, color='black', linewidth=0.5)\n",
        "ax.scatter(x_0, lim, color='red', marker='*')\n",
        "plt.show()"
      ],
      "metadata": {
        "colab": {
          "base_uri": "https://localhost:8080/",
          "height": 265
        },
        "id": "Fp0BNeDJRhjT",
        "outputId": "eb608eb1-aae0-49c7-fab6-5d654aca6b96"
      },
      "execution_count": 12,
      "outputs": [
        {
          "output_type": "display_data",
          "data": {
            "text/plain": [
              "<Figure size 432x288 with 1 Axes>"
            ],
            "image/png": "[encoded data removed]"
          },
          "metadata": {
            "needs_background": "light"
          }
        }
      ]
    }
  ]
}