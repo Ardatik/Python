{
  "cells": [
    {
      "cell_type": "markdown",
      "metadata": {
        "id": "NLnrP4O463gc"
      },
      "source": [
        "Вычислить предел функции."
      ]
    },
    {
      "cell_type": "markdown",
      "metadata": {
        "id": "Z1CBYNK68B3C"
      },
      "source": [
        "lim ((x^3 - 2 * x - 1) * (x + 1))/ (x^4 - 4 * x^2 - x -5) при x → -1"
      ]
    },
    {
      "cell_type": "markdown",
      "metadata": {
        "id": "AZ9YTGJF7i3s"
      },
      "source": [
        "Произведем импорт необходимых библиотек."
      ]
    },
    {
      "cell_type": "code",
      "execution_count": 1,
      "metadata": {
        "id": "ceCjG8zyvrwG"
      },
      "outputs": [],
      "source": [
        "import matplotlib.pyplot as plt\n",
        "import numpy as np"
      ]
    },
    {
      "cell_type": "markdown",
      "metadata": {
        "id": "3YXa9WZmguLp"
      },
      "source": [
        "Рассмотрим функцию."
      ]
    },
    {
      "cell_type": "code",
      "execution_count": 2,
      "metadata": {
        "id": "t_sYn0qhRa9L"
      },
      "outputs": [],
      "source": [
        "def f_x(x):\n",
        "    y = ((x**3 - 2 * x - 1) * (x + 1))/ (x**4 - 4 * x**2 - x -5)\n",
        "    return y"
      ]
    },
    {
      "cell_type": "markdown",
      "metadata": {
        "id": "uZRq1GiSgzeY"
      },
      "source": [
        "\n",
        "Обозначим константы и найдем delta и eps."
      ]
    },
    {
      "cell_type": "code",
      "execution_count": 3,
      "metadata": {
        "colab": {
          "base_uri": "https://localhost:8080/"
        },
        "id": "mOq6emEvRmap",
        "outputId": "46e8a9ca-f8cb-4317-d841-292aaff15404"
      },
      "outputs": [
        {
          "name": "stdout",
          "output_type": "stream",
          "text": [
            "Значение lim - \"-0.002\"\n"
          ]
        }
      ],
      "source": [
        "delta = 10\n",
        "dx = 1e-5\n",
        "eps = 0\n",
        "x_0 = -1\n",
        "\n",
        "while delta > dx:\n",
        "    eps -= 1\n",
        "    delta = f_x(x_0 - 10 ** eps) - f_x(x_0 + 10 ** eps)\n",
        "lim = round(f_x(x_0 - 10 ** eps), 3)\n",
        "print(f'Значение lim - \"{lim}\"')\n"
      ]
    },
    {
      "cell_type": "markdown",
      "metadata": {
        "id": "3dWJoJT1g1Ju"
      },
      "source": [
        "Сформируем точки и построим график."
      ]
    },
    {
      "cell_type": "code",
      "execution_count": 4,
      "metadata": {
        "colab": {
          "base_uri": "https://localhost:8080/",
          "height": 265
        },
        "id": "Fp0BNeDJRhjT",
        "outputId": "eb608eb1-aae0-49c7-fab6-5d654aca6b96"
      },
      "outputs": [
        {
          "data": {
            "image/png": "[encoded data removed]",
            "text/plain": [
              "<Figure size 432x288 with 1 Axes>"
            ]
          },
          "metadata": {
            "needs_background": "light"
          },
          "output_type": "display_data"
        }
      ],
      "source": [
        "x = np.linspace(x_0 - 1, x_0 + 1, 100)\n",
        "y = f_x(x)\n",
        "\n",
        "fig = plt.figure()\n",
        "ax = fig.add_subplot(1, 1, 1)\n",
        "ax.grid(True)\n",
        "ax.plot(x, y, color='black', linewidth=0.5)\n",
        "ax.scatter(x_0, lim, color='red', marker='*')\n",
        "plt.show()"
      ]
    }
  ],
  "metadata": {
    "colab": {
      "authorship_tag": "ABX9TyPvSqucpR2ehBmM97D32K55",
      "name": "task_9.ipynb",
      "provenance": []
    },
    "interpreter": {
      "hash": "2c3a313d62747f3953029ccee5ce2d7712e806ea1bb2978a6cb4d87a235ddcc0"
    },
    "kernelspec": {
      "display_name": "Python 3.10.4 64-bit (system)",
      "language": "python",
      "name": "python3"
    },
    "language_info": {
      "codemirror_mode": {
        "name": "ipython",
        "version": 3
      },
      "file_extension": ".py",
      "mimetype": "text/x-python",
      "name": "python",
      "nbconvert_exporter": "python",
      "pygments_lexer": "ipython3",
      "version": "3.10.4"
    }
  },
  "nbformat": 4,
  "nbformat_minor": 0
}
