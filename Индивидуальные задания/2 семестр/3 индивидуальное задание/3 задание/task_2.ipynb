{
  "cells": [
    {
      "cell_type": "markdown",
      "metadata": {
        "id": "NLnrP4O463gc"
      },
      "source": [
        "Составить уравнение нормали для кривой."
      ]
    },
    {
      "cell_type": "markdown",
      "metadata": {
        "id": "Z1CBYNK68B3C"
      },
      "source": [
        "f(x) = (4 * x - x^2) / 4"
      ]
    },
    {
      "cell_type": "markdown",
      "metadata": {
        "id": "AZ9YTGJF7i3s"
      },
      "source": [
        "Произведем импорт необходимых библиотек."
      ]
    },
    {
      "cell_type": "code",
      "execution_count": 1,
      "metadata": {
        "id": "ceCjG8zyvrwG"
      },
      "outputs": [],
      "source": [
        "import matplotlib.pyplot as plt\n",
        "import numpy as np"
      ]
    },
    {
      "cell_type": "markdown",
      "metadata": {
        "id": "3YXa9WZmguLp"
      },
      "source": [
        "Рассмотрим функцию."
      ]
    },
    {
      "cell_type": "code",
      "execution_count": 2,
      "metadata": {
        "id": "t_sYn0qhRa9L"
      },
      "outputs": [],
      "source": [
        "def f_x(x: float):\n",
        "    return (4 * x - x**2) / 4"
      ]
    },
    {
      "cell_type": "markdown",
      "metadata": {
        "id": "uZRq1GiSgzeY"
      },
      "source": [
        "\n",
        "Произведем подсчет производной."
      ]
    },
    {
      "cell_type": "code",
      "execution_count": 3,
      "metadata": {
        "colab": {
          "base_uri": "https://localhost:8080/"
        },
        "id": "mOq6emEvRmap",
        "outputId": "e164740c-06b8-483b-96c1-2d8c5061cb6a"
      },
      "outputs": [
        {
          "name": "stdout",
          "output_type": "stream",
          "text": [
            "\"1.0\"\n",
            "\"1.1102230246251565e-10\"\n"
          ]
        }
      ],
      "source": [
        "x_0 = 2\n",
        "dx = 1e-6\n",
        "dir = (f_x(x_0 + dx/2) - f_x(x_0 - dx/2)) / dx\n",
        "print(f'\"{f_x(x_0)}\"\\n\"{dir}\"')"
      ]
    },
    {
      "cell_type": "markdown",
      "metadata": {
        "id": "o1g8vAjgoGeV"
      },
      "source": [
        "Сформируем точки и уравнение касательной."
      ]
    },
    {
      "cell_type": "code",
      "execution_count": 4,
      "metadata": {
        "colab": {
          "base_uri": "https://localhost:8080/"
        },
        "id": "b_e7137yoLuN",
        "outputId": "d348b49d-4a1b-4d5e-9777-d2d9fe8b6074"
      },
      "outputs": [
        {
          "name": "stdout",
          "output_type": "stream",
          "text": [
            "Уравнение касательной - \"y = 1\"\n"
          ]
        }
      ],
      "source": [
        "x_0 = 2\n",
        "x = np.linspace(x_0 - 3, x_0 + 3, 200)\n",
        "y = f_x(x)\n",
        "\n",
        "m = f_x(x_0) - (dir * x_0)\n",
        "y_2 = dir * x + m\n",
        "print(f'Уравнение касательной - \"y = {round(m)}\"')"
      ]
    },
    {
      "cell_type": "markdown",
      "metadata": {
        "id": "3dWJoJT1g1Ju"
      },
      "source": [
        "Построим график."
      ]
    },
    {
      "cell_type": "code",
      "execution_count": 5,
      "metadata": {
        "colab": {
          "base_uri": "https://localhost:8080/",
          "height": 265
        },
        "id": "Fp0BNeDJRhjT",
        "outputId": "9c2f0e15-6e49-47a0-e1f7-97411cee2f29"
      },
      "outputs": [
        {
          "data": {
            "image/png": "[encoded data removed]",
            "text/plain": [
              "<Figure size 432x288 with 1 Axes>"
            ]
          },
          "metadata": {
            "needs_background": "light"
          },
          "output_type": "display_data"
        }
      ],
      "source": [
        "fig = plt.figure()\n",
        "ax = fig.add_subplot(1, 1, 1)\n",
        "ax.grid(True)\n",
        "ax.plot(x_0, f_x(x_0), color= 'red', marker='*')\n",
        "ax.plot(x, y, linewidth=1.5, color='black')\n",
        "ax.plot(x, y_2, linewidth=1, color=\"blue\")\n",
        "plt.show()"
      ]
    }
  ],
  "metadata": {
    "colab": {
      "authorship_tag": "ABX9TyPIIIdZ02r99P165sod+8lj",
      "name": "task_2.ipynb",
      "provenance": []
    },
    "interpreter": {
      "hash": "2c3a313d62747f3953029ccee5ce2d7712e806ea1bb2978a6cb4d87a235ddcc0"
    },
    "kernelspec": {
      "display_name": "Python 3.10.4 64-bit (system)",
      "language": "python",
      "name": "python3"
    },
    "language_info": {
      "codemirror_mode": {
        "name": "ipython",
        "version": 3
      },
      "file_extension": ".py",
      "mimetype": "text/x-python",
      "name": "python",
      "nbconvert_exporter": "python",
      "pygments_lexer": "ipython3",
      "version": "3.10.4"
    }
  },
  "nbformat": 4,
  "nbformat_minor": 0
}
