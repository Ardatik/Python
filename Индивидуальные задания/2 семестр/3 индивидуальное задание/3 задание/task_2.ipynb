{
  "nbformat": 4,
  "nbformat_minor": 0,
  "metadata": {
    "colab": {
      "name": "task_2.ipynb",
      "provenance": [],
      "authorship_tag": "ABX9TyPIIIdZ02r99P165sod+8lj"
    },
    "kernelspec": {
      "name": "python3",
      "display_name": "Python 3"
    },
    "language_info": {
      "name": "python"
    }
  },
  "cells": [
    {
      "cell_type": "markdown",
      "source": [
        "Составить уравнение нормали для кривой."
      ],
      "metadata": {
        "id": "NLnrP4O463gc"
      }
    },
    {
      "cell_type": "markdown",
      "source": [
        "f(x) = (4 * x - x^2) / 4"
      ],
      "metadata": {
        "id": "Z1CBYNK68B3C"
      }
    },
    {
      "cell_type": "markdown",
      "source": [
        "Произведем импорт необходимых библиотек."
      ],
      "metadata": {
        "id": "AZ9YTGJF7i3s"
      }
    },
    {
      "cell_type": "code",
      "execution_count": 5,
      "metadata": {
        "id": "ceCjG8zyvrwG"
      },
      "outputs": [],
      "source": [
        "import matplotlib.pyplot as plt\n",
        "import numpy as np"
      ]
    },
    {
      "cell_type": "markdown",
      "source": [
        "Рассмотрим функцию."
      ],
      "metadata": {
        "id": "3YXa9WZmguLp"
      }
    },
    {
      "cell_type": "code",
      "source": [
        "def f_x(x: float):\n",
        "    return (4 * x - x**2) / 4"
      ],
      "metadata": {
        "id": "t_sYn0qhRa9L"
      },
      "execution_count": 16,
      "outputs": []
    },
    {
      "cell_type": "markdown",
      "source": [
        "\n",
        "Произведем подсчет производной."
      ],
      "metadata": {
        "id": "uZRq1GiSgzeY"
      }
    },
    {
      "cell_type": "code",
      "source": [
        "x_0 = 2\n",
        "dx = 1e-6\n",
        "dir = (f_x(x_0 + dx/2) - f_x(x_0 - dx/2)) / dx\n",
        "print(f'\"{f_x(x_0)}\"\\n\"{dir}\"')"
      ],
      "metadata": {
        "colab": {
          "base_uri": "https://localhost:8080/"
        },
        "id": "mOq6emEvRmap",
        "outputId": "e164740c-06b8-483b-96c1-2d8c5061cb6a"
      },
      "execution_count": 22,
      "outputs": [
        {
          "output_type": "stream",
          "name": "stdout",
          "text": [
            "\"1.0\"\n",
            "\"1.1102230246251565e-10\"\n"
          ]
        }
      ]
    },
    {
      "cell_type": "markdown",
      "source": [
        "Сформируем точки и уравнение касательной."
      ],
      "metadata": {
        "id": "o1g8vAjgoGeV"
      }
    },
    {
      "cell_type": "code",
      "source": [
        "x_0 = 2\n",
        "x = np.linspace(x_0 - 3, x_0 + 3, 200)\n",
        "y = f_x(x)\n",
        "\n",
        "m = f_x(x_0) - (dir * x_0)\n",
        "y_2 = dir * x + m\n",
        "print(f'Уравнение касательной - \"y = {round(m)}\"')"
      ],
      "metadata": {
        "colab": {
          "base_uri": "https://localhost:8080/"
        },
        "id": "b_e7137yoLuN",
        "outputId": "d348b49d-4a1b-4d5e-9777-d2d9fe8b6074"
      },
      "execution_count": 23,
      "outputs": [
        {
          "output_type": "stream",
          "name": "stdout",
          "text": [
            "Уравнение касательной - \"y = 1\"\n"
          ]
        }
      ]
    },
    {
      "cell_type": "markdown",
      "source": [
        "Построим график."
      ],
      "metadata": {
        "id": "3dWJoJT1g1Ju"
      }
    },
    {
      "cell_type": "code",
      "source": [
        "fig = plt.figure()\n",
        "ax = fig.add_subplot(1, 1, 1)\n",
        "ax.grid(True)\n",
        "ax.plot(x_0, f_x(x_0), color= 'red', marker='*')\n",
        "ax.plot(x, y, linewidth=1.5, color='black')\n",
        "ax.plot(x, y_2, linewidth=1, color=\"blue\")\n",
        "plt.show()"
      ],
      "metadata": {
        "colab": {
          "base_uri": "https://localhost:8080/",
          "height": 265
        },
        "id": "Fp0BNeDJRhjT",
        "outputId": "9c2f0e15-6e49-47a0-e1f7-97411cee2f29"
      },
      "execution_count": 24,
      "outputs": [
        {
          "output_type": "display_data",
          "data": {
            "text/plain": [
              "<Figure size 432x288 with 1 Axes>"
            ],
            "image/png": "[encoded data removed]"
          },
          "metadata": {
            "needs_background": "light"
          }
        }
      ]
    }
  ]
}